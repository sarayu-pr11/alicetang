{
 "cells": [
  {
   "cell_type": "markdown",
   "metadata": {},
   "source": [
    "# \"Array Lists Lesson\"\n",
    "> \"Student Lead Lesson Notes and HW\"\n",
    "\n",
    "- branch: master\n",
    "- badges: true\n",
    "- comments: true\n",
    "- author: Alice Tang\n",
    "- categories: [java, jupyter, CB]"
   ]
  },
  {
   "cell_type": "markdown",
   "metadata": {},
   "source": [
    "### Introductions\n",
    "- A reference type\n",
    "- Array cannot be modified while ArrayLists can change size dynamically\n",
    "\n",
    "### Methods\n",
    "- add(int index, element) ...\n",
    "\n",
    "### Traversing ArrayLists\n",
    "- For Loop\n",
    "- While Loop\n",
    "- Enhanced ForLoop\n",
    "\n",
    "### Searching\n",
    "- The locating of data within linear structures\n",
    "- Searching a structure involves control structures - iterationnal and selection - loop with an if statement\n",
    "- For loops are optimal for linear searching because each element needs to be specified sequentiallly with no need to track the index after its executed\n",
    "- Order matters sometimes in searching\n",
    "\n",
    "### Sorting\n",
    "- Sorting sorts the ArrayList in a specified order (ascending or descending)\n",
    "- Collections.sort[(list.name)] - sort in ascending order\n",
    "- Collections.sort[(ArrayList,Collections.reverseOrder())] - sort in ascending order\n",
    "\n",
    "### HW\n",
    "Create an ArrayList that includes 2 of the 4 factors listed below.\n",
    "\n",
    "- Sort an ArrayList in descending order and swap the first and last elements \n",
    "- Find and display the hashCode of an Arraylist before and after being sorted \n",
    "- Return \"ascending\" if the list is sorted in ascending order, return \"descending\" if it is descending, and return \"neither\" if neither \n",
    "- Replace 3 elements in an ArrayList with another ArrayList and reverse the order of the new list"
   ]
  },
  {
   "cell_type": "code",
   "execution_count": 4,
   "metadata": {},
   "outputs": [
    {
     "name": "stdout",
     "output_type": "stream",
     "text": [
      "[apple, orange, 3, yellow, AX7, blue98]\n",
      "reversed list with first and last element switched: [apple, AX7, yellow, 3, orange, blue98]\n"
     ]
    }
   ],
   "source": [
    "import java.util.ArrayList;\n",
    "import java.util.Collections;\n",
    "\n",
    "// initialize Array List with strings\n",
    "ArrayList<String> strlist = new ArrayList<>();\n",
    "\n",
    "strlist.add(\"apple\");\n",
    "strlist.add(\"orange\");\n",
    "strlist.add(\"3\");\n",
    "strlist.add(\"yellow\");\n",
    "strlist.add(\"AX7\");\n",
    "strlist.add(\"blue98\");\n",
    "\n",
    "System.out.println(strlist);\n",
    "\n",
    "// reverse order of array list\n",
    "Collections.reverse(strlist);\n",
    "\n",
    "// switch first and last\n",
    "public static void swap(){\n",
    "    String temp = strlist.get(0);\n",
    "    int lastindex = strlist.size()-1; \n",
    "    strlist.set(0, strlist.get(lastindex));\n",
    "    strlist.set(lastindex, temp);\n",
    "    System.out.println(\"reversed list with first and last element switched: \" + strlist);\n",
    "}\n",
    "swap()\n"
   ]
  },
  {
   "cell_type": "code",
   "execution_count": 5,
   "metadata": {},
   "outputs": [
    {
     "name": "stdout",
     "output_type": "stream",
     "text": [
      "Unsorted hashCode: 903531471\n",
      "Sorted hashCode: 1218882291\n"
     ]
    }
   ],
   "source": [
    "import java.util.ArrayList;\n",
    "import java.util.Collections;\n",
    "\n",
    "// initialize Array List with strings\n",
    "ArrayList<String> strlist = new ArrayList<>();\n",
    "\n",
    "strlist.add(\"apple\");\n",
    "strlist.add(\"orange\");\n",
    "strlist.add(\"3\");\n",
    "strlist.add(\"yellow\");\n",
    "strlist.add(\"AX7\");\n",
    "strlist.add(\"blue98\");\n",
    "\n",
    "// hashCode before sort\n",
    "System.out.println(\"Unsorted hashCode: \" + strlist.hashCode());\n",
    "\n",
    "// hashCode after sort\n",
    "Collections.sort(strlist);\n",
    "System.out.println(\"Sorted hashCode: \" + strlist.hashCode());"
   ]
  }
 ],
 "metadata": {
  "kernelspec": {
   "display_name": "Java",
   "language": "java",
   "name": "java"
  },
  "language_info": {
   "codemirror_mode": "java",
   "file_extension": ".jshell",
   "mimetype": "text/x-java-source",
   "name": "java",
   "pygments_lexer": "java",
   "version": "18.0.1.1+2-6"
  },
  "orig_nbformat": 4,
  "vscode": {
   "interpreter": {
    "hash": "aee8b7b246df8f9039afb4144a1f6fd8d2ca17a180786b69acc140d282b71a49"
   }
  }
 },
 "nbformat": 4,
 "nbformat_minor": 2
}
