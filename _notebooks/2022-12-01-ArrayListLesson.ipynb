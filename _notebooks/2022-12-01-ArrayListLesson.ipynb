{
 "cells": [
  {
   "cell_type": "markdown",
   "metadata": {},
   "source": [
    "# \"Array Lists Lesson\"\n",
    "> \"Student Lead Lesson Notes and HW\"\n",
    "\n",
    "- branch: master\n",
    "- badges: true\n",
    "- comments: true\n",
    "- author: Alice Tang\n",
    "- categories: [java, jupyter, CB]"
   ]
  },
  {
   "cell_type": "markdown",
   "metadata": {},
   "source": [
    "## Introductions\n",
    "- A reference type\n",
    "- Array cannot be modified while ArrayLists can change size dynamically\n",
    "\n",
    "## Methods\n",
    "- add(int index, element) ...\n",
    "\n",
    "## Traversing ArrayLists\n",
    "- For Loop\n",
    "- While Loop\n",
    "- Enhanced ForLoop\n",
    "\n",
    "## Searching\n",
    "- The locating of data within linear structures\n",
    "- Searching a structure involves control structures - iterationnal and selection - loop with an if statement\n",
    "- For loops are optimal for linear searching because each element needs to be specified sequentiallly with no need to track the index after its executed\n",
    "- Order matters sometimes in searching\n",
    "\n",
    "## Sorting\n",
    "- Sorting sorts the ArrayList in a specified order (ascending or descending)\n",
    "- Collections.sort[(list.name)] - sort in ascending order\n",
    "- Collections.sort[(ArrayList,Collections.reverseOrder())] - sort in ascending order\n",
    "\n",
    "## HW\n",
    "Create an ArrayList that includes 2 of the 4 factors listed below.\n",
    "\n",
    "Sort an ArrayList in descending order and swap the first and last elements Find and display the hashCode of an Arraylist before and after being sorted Return \"ascending\" if the list is sorted in ascending order, return \"descending\" if it is descending, and return \"neither\" if neither Replace 3 elements in an ArrayList with another ArrayList and reverse the order of the new list\n",
    "\n",
    "\n"
   ]
  }
 ],
 "metadata": {
  "kernelspec": {
   "display_name": "Python 3.9.6 64-bit",
   "language": "python",
   "name": "python3"
  },
  "language_info": {
   "name": "python",
   "version": "3.9.6"
  },
  "orig_nbformat": 4,
  "vscode": {
   "interpreter": {
    "hash": "aee8b7b246df8f9039afb4144a1f6fd8d2ca17a180786b69acc140d282b71a49"
   }
  }
 },
 "nbformat": 4,
 "nbformat_minor": 2
}
