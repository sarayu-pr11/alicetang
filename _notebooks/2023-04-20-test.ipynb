{
 "cells": [
  {
   "attachments": {},
   "cell_type": "markdown",
   "metadata": {},
   "source": [
    "# Test\n",
    "- toc: true\n",
    "- comments: false\n",
    "- categories: [jupyter]"
   ]
  },
  {
   "cell_type": "code",
   "execution_count": 14,
   "metadata": {},
   "outputs": [
    {
     "name": "stdout",
     "output_type": "stream",
     "text": [
      "Book 1 title: The Great Gatsby (ID: 1)\n",
      "Book 2 title: To Kill a Mockingbird (ID: 2)\n",
      "Number of books in library: 2\n"
     ]
    }
   ],
   "source": [
    "public class Book {\n",
    "    private static int bookCount = 0;\n",
    "    private String title;\n",
    "    private int id;\n",
    "    public Book(String title) {\n",
    "      this.title = title;\n",
    "      this.id = ++bookCount;\n",
    "    }\n",
    "    public String getTitle() {\n",
    "      return title;\n",
    "    }\n",
    "    public static int getBookCount() {\n",
    "      return bookCount;\n",
    "    }\n",
    "    public int getID() {\n",
    "      return id;\n",
    "    }\n",
    "    public String toString() {\n",
    "      return title;\n",
    "    }\n",
    "    public static void main(String[] args) {\n",
    "      Book book1 = new Book(\"The Great Gatsby\");\n",
    "      Book book2 = new Book(\"To Kill a Mockingbird\");\n",
    "      \n",
    "      System.out.println(\"Book 1 title: \" + book1 + \" (ID: \" + book1.getID()+\")\");\n",
    "      System.out.println(\"Book 2 title: \" + book2 + \" (ID: \" + book2.getID()+\")\");\n",
    "      System.out.println(\"Number of books in library: \" + Book.getBookCount());\n",
    "    }\n",
    "  }\n",
    "  Book.main(null);"
   ]
  },
  {
   "cell_type": "code",
   "execution_count": 16,
   "metadata": {},
   "outputs": [
    {
     "name": "stdout",
     "output_type": "stream",
     "text": [
      "Book: To Kill a Mockingbird (ID: 1)\n",
      "Author: Harper Lee\n",
      "Time Entered: 2023-04-21T09:22:18.280574\n",
      "\n",
      "Textbook: Java Programming (ID: 2)\n",
      "Publishing Company: Oracle\n",
      "Time Entered: 2023-04-21T09:22:18.280856\n",
      "\n",
      "Total Books in Library: 2\n"
     ]
    }
   ],
   "source": [
    "import java.time.LocalDateTime;\n",
    "public class Book {\n",
    "    private static int bookCount = 0;\n",
    "    private int id;\n",
    "    private String title;\n",
    "    private LocalDateTime timeEntered;\n",
    "    public Book(String title) {\n",
    "        this.id = ++bookCount;\n",
    "        this.title = title;\n",
    "        this.timeEntered = LocalDateTime.now();\n",
    "    }\n",
    "    public String getTitle() {\n",
    "        return this.title;\n",
    "    }\n",
    "    public void setTitle(String title) {\n",
    "        this.title = title;\n",
    "    }\n",
    "    public int getId() {\n",
    "        return this.id;\n",
    "    }\n",
    "    public LocalDateTime getTimeEntered() {\n",
    "        return this.timeEntered;\n",
    "    }\n",
    "    public static int getBookCount() {\n",
    "        return bookCount;\n",
    "    }\n",
    "    public String toString() {\n",
    "        return this.title;\n",
    "    }\n",
    "    public static void main(String[] args) {\n",
    "        Novel novel = new Novel(\"To Kill a Mockingbird\", \"Harper Lee\");\n",
    "        Textbook textbook = new Textbook(\"Java Programming\", \"Oracle\");\n",
    "        System.out.println(\"Book: \" + novel + \" (ID: \" + novel.getId() + \")\");\n",
    "        System.out.println(\"Author: \" + novel.getAuthor());\n",
    "        System.out.println(\"Time Entered: \" + novel.getTimeEntered());\n",
    "        System.out.println();\n",
    "        System.out.println(\"Textbook: \" + textbook + \" (ID: \" + textbook.getId() + \")\");\n",
    "        System.out.println(\"Publishing Company: \" + textbook.getPublishingCompany());\n",
    "        System.out.println(\"Time Entered: \" + textbook.getTimeEntered());\n",
    "        System.out.println();\n",
    "        System.out.println(\"Total Books in Library: \" + Book.getBookCount());\n",
    "    }\n",
    "}\n",
    "class Novel extends Book {\n",
    "    private String author;\n",
    "    public Novel(String title, String author) {\n",
    "        super(title);\n",
    "        this.author = author;\n",
    "    }\n",
    "    public String getAuthor() {\n",
    "        return this.author;\n",
    "    }\n",
    "    public void setAuthor(String author) {\n",
    "        this.author = author;\n",
    "    }\n",
    "}\n",
    "class Textbook extends Book {\n",
    "    private String publishingCompany;\n",
    "    public Textbook(String title, String publishingCompany) {\n",
    "        super(title);\n",
    "        this.publishingCompany = publishingCompany;\n",
    "    }\n",
    "    public String getPublishingCompany() {\n",
    "        return this.publishingCompany;\n",
    "    }\n",
    "    public void setPublishingCompany(String publishingCompany) {\n",
    "        this.publishingCompany = publishingCompany;\n",
    "    }\n",
    "}\n",
    "Book.main(null);"
   ]
  }
 ],
 "metadata": {
  "kernelspec": {
   "display_name": "Java",
   "language": "java",
   "name": "java"
  },
  "language_info": {
   "codemirror_mode": "java",
   "file_extension": ".jshell",
   "mimetype": "text/x-java-source",
   "name": "java",
   "pygments_lexer": "java",
   "version": "18.0.1.1+2-6"
  },
  "orig_nbformat": 4
 },
 "nbformat": 4,
 "nbformat_minor": 2
}
