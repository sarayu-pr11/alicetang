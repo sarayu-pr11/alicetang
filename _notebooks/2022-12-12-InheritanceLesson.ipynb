{
 "cells": [
  {
   "attachments": {},
   "cell_type": "markdown",
   "metadata": {},
   "source": [
    "# \"Inheritance Lesson\"\n",
    "> \"Student Lead Lesson Notes and HW\"\n",
    "\n",
    "- branch: master\n",
    "- badges: true\n",
    "- comments: true\n",
    "- author: Alice Tang\n",
    "- categories: [java, jupyter, CB]"
   ]
  },
  {
   "attachments": {},
   "cell_type": "markdown",
   "metadata": {},
   "source": [
    "### Inheritance\n",
    "- the capability of a class to derive properties and characteristics from another class\n",
    "- without inheritance, you have to rewrite methods in each different class\n",
    "- with inheritance, create a superclass vehicle which is extended by subclasses (don't have to rewrite methods)\n",
    "\n",
    "### Syntax\n",
    "public class A {...}\n",
    "public class B extends A {...}\n",
    "\n",
    "### Overriding\n",
    "- @Override is used to give different implementations to method of superclass\n",
    "\n",
    "### Inheritance Hierachies\n",
    "- superclasses and subclasses are gernally organized into a single root tree strucutre called an inheritance hierachy \n",
    "- lower levels of hierchy inherit attributes and methods from upper level\n",
    "- object type and refernce type can be different when instantiating an object variable\n",
    "\n",
    "### Polymorphism\n",
    "- utilized when a method is implemented to perform different tasks in different classes\n",
    "- allows method to take on multiple \"forms\" or implementations based on specific object it is acting upon "
   ]
  },
  {
   "attachments": {},
   "cell_type": "markdown",
   "metadata": {},
   "source": [
    "## HW\n",
    "Part 1\n",
    "- Create a world cup superclass with properties of your choice and subclasses for five teams which inherits those properties\n",
    "- Write a constructor for one of those subclasses\n",
    "\n",
    "Part 2\n",
    "- Add a getAge method in the Person super class\n",
    "- Create a new subclass Student with additional members of your choice to personalize the Student class\n",
    "- Create a new subclass Teacher with additiona members of your choice\n",
    "- Override the toString method using the @Override to print a Student and teacher object with new members\n",
    "- Print the student and teacher.\n",
    "\n",
    "\n",
    "\n"
   ]
  }
 ],
 "metadata": {
  "kernelspec": {
   "display_name": "Python 3",
   "language": "python",
   "name": "python3"
  },
  "language_info": {
   "name": "python",
   "version": "3.9.6 (v3.9.6:db3ff76da1, Jun 28 2021, 11:49:53) \n[Clang 6.0 (clang-600.0.57)]"
  },
  "orig_nbformat": 4,
  "vscode": {
   "interpreter": {
    "hash": "aee8b7b246df8f9039afb4144a1f6fd8d2ca17a180786b69acc140d282b71a49"
   }
  }
 },
 "nbformat": 4,
 "nbformat_minor": 2
}
