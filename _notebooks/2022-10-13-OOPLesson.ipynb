{
 "cells": [
  {
   "cell_type": "markdown",
   "metadata": {},
   "source": [
    "# \"OOP Lesson\"\n",
    "> \"Student Lead Lesson Notes and HW\"\n",
    "\n",
    "- branch: master\n",
    "- badges: true\n",
    "- comments: true\n",
    "- author: Alice Tang\n",
    "- categories: [java, jupyter, CB]"
   ]
  },
  {
   "cell_type": "markdown",
   "metadata": {},
   "source": [
    "### What is OOP\n",
    "- OOP is object oriented programming\n",
    "- programming pardigm centered around objects\n",
    "\n",
    "### Classes and Objects\n",
    "- classes are templates or a blueprint, contatin data \n",
    "- objects are instances of a class, need to be instantiated\n",
    "- methods are functions of a class\n",
    "- Method Declaration consists of 6 components: Access modifer, Return type, Method name, Parameter list, Exception list, Method body\n",
    "- Calling a method allows for code reuse, optimization, and organization\n",
    "- To call an object's method you have to make an object reference"
   ]
  },
  {
   "cell_type": "markdown",
   "metadata": {},
   "source": [
    "## Homework\n",
    "no FRQ, finish Goblin Game, implement a 0.8 percent chance of landing a hit \n",
    "(due monday)\n",
    "[Goblin HW](https://tangalice.github.io/alicetang/java/jupyter/2022/10/14/GoblinHW.html)"
   ]
  }
 ],
 "metadata": {
  "kernelspec": {
   "display_name": "Python 3.9.6 64-bit",
   "language": "python",
   "name": "python3"
  },
  "language_info": {
   "name": "python",
   "version": "3.9.6"
  },
  "orig_nbformat": 4,
  "vscode": {
   "interpreter": {
    "hash": "aee8b7b246df8f9039afb4144a1f6fd8d2ca17a180786b69acc140d282b71a49"
   }
  }
 },
 "nbformat": 4,
 "nbformat_minor": 2
}
