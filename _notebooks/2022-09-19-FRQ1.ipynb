{
 "cells": [
  {
   "cell_type": "markdown",
   "metadata": {},
   "source": [
    "# \"FRQ1\"\n",
    "> \"Free Response Question 1\"\n",
    "\n",
    "- toc: true\n",
    "- branch: master\n",
    "- badges: true\n",
    "- comments: true\n",
    "- author: Alice Tang\n",
    "- categories: [java, jupyter]"
   ]
  },
  {
   "cell_type": "markdown",
   "metadata": {},
   "source": [
    "1. The APCalendar class contains methods used to calculate information about a calendar. You will write two methods of the class.\n",
    "    public class APCalendar\n",
    "    {\n",
    "        /** Returns true if year is a leap year and false otherwise.*/ \n",
    "        private static boolean isLeapYear(int year)\n",
    "            { /* implementation not shown */ }\n",
    "\n",
    "        /** Returns the number of leap years between year1 and year2, inclusive. \n",
    "        * Precondition: 0 <= year1 <= year2 */\n",
    "        public static int numberOfLeapYears(int year1, int year2)\n",
    "            { /* to be implemented in part (a) */ }\n",
    "\n",
    "        /** Returns the value representing the day of the week for the first day of year, * where 0 denotes Sunday, 1 denotes Monday, ..., and 6 denotes Saturday. */\n",
    "        private static int firstDayOfYear(int year)\n",
    "            { /* implementation not shown */ }\n",
    "\n",
    "        /** Returns n, where month, day, and year specify the nth day of the year.\n",
    "        * Returns 1 for January 1 (month = 1, day = 1) of any year.\n",
    "        * Precondition: The date represented by month, day, year is a valid date. */\n",
    "        private static int dayOfYear(int month, int day, int year)\n",
    "            { /* implementation not shown */ }\n",
    "\n",
    "        /** Returns the value representing the day of the week for the given date\n",
    "        * (month, day, year), where 0 denotes Sunday, 1 denotes Monday, ..., and 6 denotes Saturday.\n",
    "        * Precondition: The date represented by month, day, year is a valid date. */\n",
    "        public static int dayOfWeek(int month, int day, int year)\n",
    "            { /* to be implemented in part (b) */ }\n",
    "\n",
    "        // There may be instance variables, constructors, and other methods not shown. \n",
    "    }"
   ]
  },
  {
   "cell_type": "markdown",
   "metadata": {},
   "source": [
    "(a) Write the static method numberOfLeapYears, which returns the number of leap years between year1 and year2, inclusive.\n",
    "In order to calculate this value, a helper method is provided for you.\n",
    "• isLeapYear(year) returns true if year is a leap year and false otherwise.\n",
    "Complete method numberOfLeapYears below. You must use isLeapYear appropriately to receive full credit.\n",
    "/** Returns the number of leap years between year1 and year2, inclusive. \n",
    "* Precondition: 0 <= year1 <= year2 */\n",
    "\n",
    "public static int numberOfLeapYears(int year1, int year2)"
   ]
  },
  {
   "cell_type": "code",
   "execution_count": 1,
   "metadata": {
    "vscode": {
     "languageId": "java"
    }
   },
   "outputs": [],
   "source": [
    "public static int numberOfLeapYears(int year1, int year2)\n",
    "{\n",
    "    int count=0;\n",
    "\n",
    "    for (int i = year1; i <= year2; i++) \n",
    "    {\n",
    "        if(isLeapYear(i))\n",
    "        {\n",
    "            count += 1;\n",
    "        }\n",
    "    }\n",
    "    return count;\n",
    "}"
   ]
  },
  {
   "cell_type": "markdown",
   "metadata": {},
   "source": [
    "(b) Complete method dayOfWeek below. You must use firstDayOfYear and dayOfYear appropriately to receive full credit.\n",
    "/** Returns the value representing the day of the week for the given date\n",
    "* (month, day, year), where 0 denotes Sunday, 1 denotes Monday, ..., and 6 denotes Saturday.\n",
    "* Precondition: The date represented by month, day, year is a valid date. */\n",
    "\n",
    "public static int dayOfWeek(int month, int day, int year)"
   ]
  },
  {
   "cell_type": "code",
   "execution_count": 2,
   "metadata": {
    "vscode": {
     "languageId": "java"
    }
   },
   "outputs": [],
   "source": [
    "public static int dayOfWeek(int month, int day, int year)\n",
    "{\n",
    "   int firstDay = firstDayOfYear(year);\n",
    "   int NthDay = dayOfYear(month, day, year);\n",
    "   int returnDay = (startDay + nthDay - 1) % 7;\n",
    "   return returnDay;\n",
    "}"
   ]
  }
 ],
 "metadata": {
  "kernelspec": {
   "display_name": "Java",
   "language": "java",
   "name": "java"
  },
  "language_info": {
   "codemirror_mode": "java",
   "file_extension": ".jshell",
   "mimetype": "text/x-java-source",
   "name": "Java",
   "pygments_lexer": "java",
   "version": "18.0.1.1+2-6"
  },
  "orig_nbformat": 4,
  "vscode": {
   "interpreter": {
    "hash": "aee8b7b246df8f9039afb4144a1f6fd8d2ca17a180786b69acc140d282b71a49"
   }
  }
 },
 "nbformat": 4,
 "nbformat_minor": 2
}
