{
 "cells": [
  {
   "cell_type": "markdown",
   "metadata": {},
   "source": [
    "# \"Array Lists\"\n",
    "> \"Array Lists Hacks\"\n",
    "\n",
    "- branch: master\n",
    "- badges: true\n",
    "- comments: true\n",
    "- author: Alice Tang\n",
    "- categories: [java, jupyter]"
   ]
  },
  {
   "cell_type": "markdown",
   "metadata": {},
   "source": [
    "ArrayLists allows for elements to be added and removed from an array after it is made. In a normal array, a new one has to be made every time"
   ]
  },
  {
   "cell_type": "code",
   "execution_count": 1,
   "metadata": {
    "vscode": {
     "languageId": "java"
    }
   },
   "outputs": [],
   "source": [
    "import java.util.ArrayList; // import the ArrayList class\n",
    "\n",
    "ArrayList<String> Colors = new ArrayList<String>(); // Create an ArrayList object"
   ]
  },
  {
   "cell_type": "markdown",
   "metadata": {},
   "source": [
    "add(int index, element) : adds an element to the list"
   ]
  },
  {
   "cell_type": "code",
   "execution_count": 3,
   "metadata": {
    "vscode": {
     "languageId": "java"
    }
   },
   "outputs": [
    {
     "data": {
      "text/plain": [
       "true"
      ]
     },
     "execution_count": 3,
     "metadata": {},
     "output_type": "execute_result"
    }
   ],
   "source": [
    "Colors.add(\"red\");\n",
    "Colors.add(\"orange\");\n",
    "Colors.add(\"yellow\");"
   ]
  },
  {
   "cell_type": "markdown",
   "metadata": {},
   "source": [
    "addAll(int index, Collection collection) : adds all the elements in a list to another"
   ]
  },
  {
   "cell_type": "code",
   "execution_count": 4,
   "metadata": {
    "vscode": {
     "languageId": "java"
    }
   },
   "outputs": [
    {
     "name": "stdout",
     "output_type": "stream",
     "text": [
      "colors: [red, orange, yellow, black, white]\n",
      "\n",
      "shades: [black, white]\n"
     ]
    }
   ],
   "source": [
    "ArrayList<String> shades = new ArrayList<String>(); \n",
    "\n",
    "shades.add(\"black\");\n",
    "shades.add(\"white\");\n",
    "\n",
    "\n",
    "Colors.addAll(shades);\n",
    "System.out.println(\"colors: \" + Colors + \"\\n\");\n",
    "System.out.println(\"shades: \" + shades);"
   ]
  },
  {
   "cell_type": "markdown",
   "metadata": {},
   "source": [
    "size() : outputs the size of a list (number of elements)"
   ]
  },
  {
   "cell_type": "code",
   "execution_count": 5,
   "metadata": {
    "vscode": {
     "languageId": "java"
    }
   },
   "outputs": [
    {
     "name": "stdout",
     "output_type": "stream",
     "text": [
      "The number of colors in Colors[] is currently 5\n"
     ]
    }
   ],
   "source": [
    "System.out.println(\"The number of colors in Colors[] is currently \" + Colors.size());"
   ]
  },
  {
   "cell_type": "markdown",
   "metadata": {},
   "source": [
    "clear() : clears everything in a list, reference list is stored"
   ]
  },
  {
   "cell_type": "code",
   "execution_count": 6,
   "metadata": {
    "vscode": {
     "languageId": "java"
    }
   },
   "outputs": [
    {
     "name": "stdout",
     "output_type": "stream",
     "text": [
      "shades: []\n"
     ]
    }
   ],
   "source": [
    "shades.clear();\n",
    "System.out.println(\"shades: \" + shades);"
   ]
  },
  {
   "cell_type": "markdown",
   "metadata": {},
   "source": [
    "remove(int index), removes the element from a list with that specific index, shifts the rest of the elements to the left and decreases their index by 1"
   ]
  },
  {
   "cell_type": "code",
   "execution_count": 7,
   "metadata": {
    "vscode": {
     "languageId": "java"
    }
   },
   "outputs": [
    {
     "name": "stdout",
     "output_type": "stream",
     "text": [
      "colors: [orange, yellow, black, white]\n"
     ]
    }
   ],
   "source": [
    "Colors.remove(0);\n",
    "System.out.println(\"colors: \" + Colors);"
   ]
  },
  {
   "cell_type": "markdown",
   "metadata": {},
   "source": [
    "remove(element) : remove the element with a specific name"
   ]
  },
  {
   "cell_type": "code",
   "execution_count": 8,
   "metadata": {
    "vscode": {
     "languageId": "java"
    }
   },
   "outputs": [
    {
     "name": "stdout",
     "output_type": "stream",
     "text": [
      "colors: [yellow, black, white, green]\n"
     ]
    }
   ],
   "source": [
    "Colors.add(\"green\");\n",
    "\n",
    "// removes orange item\n",
    "Colors.remove(\"orange\");\n",
    "System.out.println(\"colors: \" + Colors);"
   ]
  },
  {
   "cell_type": "markdown",
   "metadata": {},
   "source": [
    "get(int index) : obtains the element of that index"
   ]
  },
  {
   "cell_type": "code",
   "execution_count": 9,
   "metadata": {
    "vscode": {
     "languageId": "java"
    }
   },
   "outputs": [
    {
     "name": "stdout",
     "output_type": "stream",
     "text": [
      "The first item listed is yellow\n"
     ]
    }
   ],
   "source": [
    "System.out.println(\"The first item listed is \" + Colors.get(0));"
   ]
  },
  {
   "cell_type": "markdown",
   "metadata": {},
   "source": [
    "set(int index, element) : replaces what is in that index with the new element"
   ]
  },
  {
   "cell_type": "code",
   "execution_count": 10,
   "metadata": {
    "vscode": {
     "languageId": "java"
    }
   },
   "outputs": [
    {
     "name": "stdout",
     "output_type": "stream",
     "text": [
      "colors: [purple, black, white, green]\n"
     ]
    }
   ],
   "source": [
    "// replace the first term (index of 0)\n",
    "Colors.set(0, \"purple\");\n",
    "System.out.println(\"colors: \" + Colors);"
   ]
  },
  {
   "cell_type": "markdown",
   "metadata": {},
   "source": [
    "IndexOf(element) : returns the index of that element"
   ]
  },
  {
   "cell_type": "code",
   "execution_count": 13,
   "metadata": {
    "vscode": {
     "languageId": "java"
    }
   },
   "outputs": [
    {
     "name": "stdout",
     "output_type": "stream",
     "text": [
      "The index for black is 1\n"
     ]
    }
   ],
   "source": [
    "System.out.println(\"The index for black is \" + Colors.indexOf(\"black\"));"
   ]
  },
  {
   "cell_type": "markdown",
   "metadata": {},
   "source": [
    "lastIndexOf(element) : returns last occurrence of an object if not present in list"
   ]
  },
  {
   "cell_type": "code",
   "execution_count": 17,
   "metadata": {
    "vscode": {
     "languageId": "java"
    }
   },
   "outputs": [
    {
     "name": "stdout",
     "output_type": "stream",
     "text": [
      "The index for yellow is -1\n"
     ]
    }
   ],
   "source": [
    "System.out.println(\"The index for yellow is \" + Colors.lastIndexOf(\"yellow\"));"
   ]
  },
  {
   "cell_type": "markdown",
   "metadata": {},
   "source": [
    "equals(element) : true or false if two objects (lists) are equal to one another"
   ]
  },
  {
   "cell_type": "code",
   "execution_count": 18,
   "metadata": {
    "vscode": {
     "languageId": "java"
    }
   },
   "outputs": [
    {
     "name": "stdout",
     "output_type": "stream",
     "text": [
      "the colors include non black/white shades\n"
     ]
    }
   ],
   "source": [
    "if (Colors.equals(shades) == true) {\n",
    "    System.out.println(\"all the colors are in shades\");\n",
    "}\n",
    "else {\n",
    "    System.out.println(\"the colors include non black/white shades\");\n",
    "}"
   ]
  },
  {
   "cell_type": "markdown",
   "metadata": {},
   "source": [
    "hashCode() : returns the hashcode of a list"
   ]
  },
  {
   "cell_type": "code",
   "execution_count": 19,
   "metadata": {
    "vscode": {
     "languageId": "java"
    }
   },
   "outputs": [
    {
     "name": "stdout",
     "output_type": "stream",
     "text": [
      "The hashcode for this list is -2139276674\n"
     ]
    }
   ],
   "source": [
    "System.out.println(\"The hashcode for this list is \" + Colors.hashCode());"
   ]
  },
  {
   "cell_type": "markdown",
   "metadata": {},
   "source": [
    "isEmpty() : true or false if the list is empty (has no elements within)"
   ]
  },
  {
   "cell_type": "code",
   "execution_count": 20,
   "metadata": {
    "vscode": {
     "languageId": "java"
    }
   },
   "outputs": [
    {
     "name": "stdout",
     "output_type": "stream",
     "text": [
      "Colors empty is true\n"
     ]
    }
   ],
   "source": [
    "System.out.println(\"Colors empty is \" + shades.isEmpty());"
   ]
  },
  {
   "cell_type": "markdown",
   "metadata": {},
   "source": [
    "contains(element) : returns true if the list contains the element"
   ]
  },
  {
   "cell_type": "code",
   "execution_count": 21,
   "metadata": {
    "vscode": {
     "languageId": "java"
    }
   },
   "outputs": [
    {
     "name": "stdout",
     "output_type": "stream",
     "text": [
      "Colors contains blue is false\n"
     ]
    }
   ],
   "source": [
    "System.out.println(\"Colors contains blue is \" + Colors.contains(\"blue\"));"
   ]
  },
  {
   "cell_type": "markdown",
   "metadata": {},
   "source": [
    "containsAll(Collection collection) : returns yes if the list contains all the elements of the other list"
   ]
  },
  {
   "cell_type": "code",
   "execution_count": 23,
   "metadata": {
    "vscode": {
     "languageId": "java"
    }
   },
   "outputs": [
    {
     "name": "stdout",
     "output_type": "stream",
     "text": [
      "colors does not contain all shades\n"
     ]
    }
   ],
   "source": [
    "shades.add(\"pink\");\n",
    "shades.add(\"blue\");\n",
    "\n",
    "if (Colors.containsAll(shades) == true) {\n",
    "    System.out.println(\"colors contains all shades\");\n",
    "}\n",
    "else {\n",
    "    System.out.println(\"colors does not contain all shades\");\n",
    "}"
   ]
  },
  {
   "cell_type": "markdown",
   "metadata": {},
   "source": [
    "sort(Comparator comp) : sorts elements"
   ]
  },
  {
   "cell_type": "code",
   "execution_count": 24,
   "metadata": {
    "vscode": {
     "languageId": "java"
    }
   },
   "outputs": [
    {
     "name": "stdout",
     "output_type": "stream",
     "text": [
      "Sorted colors [black, green, purple, white]\n"
     ]
    }
   ],
   "source": [
    "Collections.sort(Colors);\n",
    "System.out.println(\"Sorted colors \" + Colors);"
   ]
  }
 ],
 "metadata": {
  "kernelspec": {
   "display_name": "Java",
   "language": "java",
   "name": "java"
  },
  "language_info": {
   "codemirror_mode": "java",
   "file_extension": ".jshell",
   "mimetype": "text/x-java-source",
   "name": "Java",
   "pygments_lexer": "java",
   "version": "18.0.1.1+2-6"
  },
  "orig_nbformat": 4,
  "vscode": {
   "interpreter": {
    "hash": "31f2aee4e71d21fbe5cf8b01ff0e069b9275f58929596ceb00d14d90e3e16cd6"
   }
  }
 },
 "nbformat": 4,
 "nbformat_minor": 2
}
