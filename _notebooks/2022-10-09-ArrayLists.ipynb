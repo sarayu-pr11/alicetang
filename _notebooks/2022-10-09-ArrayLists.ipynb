{
 "cells": [
  {
   "cell_type": "markdown",
   "metadata": {},
   "source": [
    "# \"Array Lists\"\n",
    "> \"Array Lists Hacks\"\n",
    "\n",
    "- branch: master\n",
    "- badges: true\n",
    "- comments: true\n",
    "- author: Alice Tang\n",
    "- categories: [java, jupyter]"
   ]
  },
  {
   "cell_type": "markdown",
   "metadata": {},
   "source": [
    "ArrayLists allows for elements to be added and removed from an array after it is made. In a normal array, a new one has to be made every time"
   ]
  },
  {
   "cell_type": "code",
   "execution_count": 10,
   "metadata": {
    "vscode": {
     "languageId": "java"
    }
   },
   "outputs": [],
   "source": [
    "import java.util.ArrayList; // import the ArrayList class\n",
    "\n",
    "ArrayList<String> mathTools = new ArrayList<String>(); // Create an ArrayList object"
   ]
  },
  {
   "cell_type": "markdown",
   "metadata": {},
   "source": [
    "add(int index, element) : adds an element to the list"
   ]
  },
  {
   "cell_type": "code",
   "execution_count": 11,
   "metadata": {
    "vscode": {
     "languageId": "java"
    }
   },
   "outputs": [
    {
     "data": {
      "text/plain": [
       "true"
      ]
     },
     "execution_count": 11,
     "metadata": {},
     "output_type": "execute_result"
    }
   ],
   "source": [
    "mathTools.add(\"mean\");\n",
    "mathTools.add(\"median\");\n",
    "mathTools.add(\"mode\");"
   ]
  },
  {
   "cell_type": "markdown",
   "metadata": {},
   "source": [
    "addAll(int index, Collection collection) : adds all the elements in a list to another"
   ]
  },
  {
   "cell_type": "code",
   "execution_count": 12,
   "metadata": {
    "vscode": {
     "languageId": "java"
    }
   },
   "outputs": [
    {
     "name": "stdout",
     "output_type": "stream",
     "text": [
      "math tools: [mean, median, mode, derivatives, integrals]\n",
      "\n",
      "calc: [derivatives, integrals]\n"
     ]
    }
   ],
   "source": [
    "ArrayList<String> calculus = new ArrayList<String>(); \n",
    "\n",
    "calculus.add(\"derivatives\");\n",
    "calculus.add(\"integrals\");\n",
    "\n",
    "\n",
    "mathTools.addAll(calculus);\n",
    "System.out.println(\"math tools: \" + mathTools + \"\\n\");\n",
    "System.out.println(\"calc: \" + calculus);"
   ]
  },
  {
   "cell_type": "markdown",
   "metadata": {},
   "source": [
    "size() : outputs the size of a list (number of elements)"
   ]
  },
  {
   "cell_type": "code",
   "execution_count": 13,
   "metadata": {
    "vscode": {
     "languageId": "java"
    }
   },
   "outputs": [
    {
     "name": "stdout",
     "output_type": "stream",
     "text": [
      "The number of listings in DN Marketplace is currently 5\n"
     ]
    }
   ],
   "source": [
    "System.out.println(\"The number of listings in DN Marketplace is currently \" + mathTools.size());"
   ]
  },
  {
   "cell_type": "markdown",
   "metadata": {},
   "source": [
    "clear() : clears everything in a list, reference list is stored"
   ]
  },
  {
   "cell_type": "code",
   "execution_count": 14,
   "metadata": {
    "vscode": {
     "languageId": "java"
    }
   },
   "outputs": [
    {
     "name": "stdout",
     "output_type": "stream",
     "text": [
      "calculus: []\n"
     ]
    }
   ],
   "source": [
    "calculus.clear();\n",
    "System.out.println(\"calculus: \" + calculus);"
   ]
  },
  {
   "cell_type": "markdown",
   "metadata": {},
   "source": [
    "remove(int index), removes the element from a list with that specific index, shifts the rest of the elements to the left and decreases their index by 1"
   ]
  },
  {
   "cell_type": "code",
   "execution_count": 15,
   "metadata": {
    "vscode": {
     "languageId": "java"
    }
   },
   "outputs": [
    {
     "name": "stdout",
     "output_type": "stream",
     "text": [
      "math tools: [median, mode, derivatives, integrals]\n"
     ]
    }
   ],
   "source": [
    "mathTools.remove(0);\n",
    "System.out.println(\"math tools: \" + mathTools);"
   ]
  },
  {
   "cell_type": "markdown",
   "metadata": {},
   "source": [
    "remove(element) : remove the element with a specific name"
   ]
  },
  {
   "cell_type": "code",
   "execution_count": 16,
   "metadata": {
    "vscode": {
     "languageId": "java"
    }
   },
   "outputs": [
    {
     "name": "stdout",
     "output_type": "stream",
     "text": [
      "math tools: [median, derivatives, integrals, mean]\n"
     ]
    }
   ],
   "source": [
    "mathTools.add(\"mean\");\n",
    "\n",
    "// removes PE Lock\n",
    "mathTools.remove(\"mode\");\n",
    "System.out.println(\"math tools: \" + mathTools);"
   ]
  },
  {
   "cell_type": "markdown",
   "metadata": {},
   "source": [
    "get(int index) : obtains the element of that index"
   ]
  },
  {
   "cell_type": "code",
   "execution_count": 17,
   "metadata": {
    "vscode": {
     "languageId": "java"
    }
   },
   "outputs": [
    {
     "name": "stdout",
     "output_type": "stream",
     "text": [
      "The first item listed is median\n"
     ]
    }
   ],
   "source": [
    "System.out.println(\"The first item listed is \" + mathTools.get(0));"
   ]
  },
  {
   "cell_type": "markdown",
   "metadata": {},
   "source": [
    "set(int index, element) : replaces what is in that index with the new element"
   ]
  },
  {
   "cell_type": "code",
   "execution_count": 18,
   "metadata": {
    "vscode": {
     "languageId": "java"
    }
   },
   "outputs": [
    {
     "name": "stdout",
     "output_type": "stream",
     "text": [
      "math tools: [standard deviation, derivatives, integrals, mean]\n"
     ]
    }
   ],
   "source": [
    "// replace the first term (index of 0)\n",
    "mathTools.set(0, \"standard deviation\");\n",
    "System.out.println(\"math tools: \" + mathTools);"
   ]
  },
  {
   "cell_type": "markdown",
   "metadata": {},
   "source": [
    "IndexOf(element) : returns the index of that element"
   ]
  },
  {
   "cell_type": "code",
   "execution_count": 19,
   "metadata": {
    "vscode": {
     "languageId": "java"
    }
   },
   "outputs": [
    {
     "name": "stdout",
     "output_type": "stream",
     "text": [
      "The index for mean is 3\n"
     ]
    }
   ],
   "source": [
    "System.out.println(\"The index for mean is \" + mathTools.indexOf(\"mean\"));"
   ]
  },
  {
   "cell_type": "markdown",
   "metadata": {},
   "source": [
    "lastIndexOf(element) : returns last occurrence of an object if not present in list"
   ]
  },
  {
   "cell_type": "code",
   "execution_count": 20,
   "metadata": {
    "vscode": {
     "languageId": "java"
    }
   },
   "outputs": [
    {
     "name": "stdout",
     "output_type": "stream",
     "text": [
      "The index for derivative is -1\n"
     ]
    }
   ],
   "source": [
    "System.out.println(\"The index for derivative is \" + calculus.lastIndexOf(\"derivatives\"));"
   ]
  },
  {
   "cell_type": "markdown",
   "metadata": {},
   "source": [
    "equals(element) : true or false if two objects (lists) are equal to one another"
   ]
  },
  {
   "cell_type": "code",
   "execution_count": 21,
   "metadata": {
    "vscode": {
     "languageId": "java"
    }
   },
   "outputs": [
    {
     "name": "stdout",
     "output_type": "stream",
     "text": [
      "the math tools include noncalculus functions\n"
     ]
    }
   ],
   "source": [
    "if (mathTools.equals(calculus) == true) {\n",
    "    System.out.println(\"all the math tools are calculus\");\n",
    "}\n",
    "else {\n",
    "    System.out.println(\"the math tools include noncalculus functions\");\n",
    "}"
   ]
  },
  {
   "cell_type": "markdown",
   "metadata": {},
   "source": [
    "hashCode() : returns the hashcode of a list"
   ]
  },
  {
   "cell_type": "code",
   "execution_count": 22,
   "metadata": {
    "vscode": {
     "languageId": "java"
    }
   },
   "outputs": [
    {
     "name": "stdout",
     "output_type": "stream",
     "text": [
      "The hashcode for this list is -328112883\n"
     ]
    }
   ],
   "source": [
    "System.out.println(\"The hashcode for this list is \" + mathTools.hashCode());"
   ]
  },
  {
   "cell_type": "markdown",
   "metadata": {},
   "source": [
    "isEmpty() : true or false if the list is empty (has no elements within)"
   ]
  },
  {
   "cell_type": "code",
   "execution_count": 23,
   "metadata": {
    "vscode": {
     "languageId": "java"
    }
   },
   "outputs": [
    {
     "name": "stdout",
     "output_type": "stream",
     "text": [
      "calculus tools empty is true\n"
     ]
    }
   ],
   "source": [
    "System.out.println(\"calculus tools empty is \" + calculus.isEmpty());"
   ]
  },
  {
   "cell_type": "markdown",
   "metadata": {},
   "source": [
    "contains(element) : returns true if the list contains the element"
   ]
  },
  {
   "cell_type": "code",
   "execution_count": 24,
   "metadata": {
    "vscode": {
     "languageId": "java"
    }
   },
   "outputs": [
    {
     "name": "stdout",
     "output_type": "stream",
     "text": [
      "math tools contains graphing is false\n"
     ]
    }
   ],
   "source": [
    "System.out.println(\"math tools contains graphing is \" + mathTools.contains(\"graphing\"));"
   ]
  },
  {
   "cell_type": "markdown",
   "metadata": {},
   "source": [
    "containsAll(Collection collection) : returns yes if the list contains all the elements of the other list"
   ]
  },
  {
   "cell_type": "code",
   "execution_count": 25,
   "metadata": {
    "vscode": {
     "languageId": "java"
    }
   },
   "outputs": [
    {
     "name": "stdout",
     "output_type": "stream",
     "text": [
      "math tools contains all the calc tools\n"
     ]
    }
   ],
   "source": [
    "calculus.add(\"derivatives\");\n",
    "calculus.add(\"integrals\");\n",
    "\n",
    "if (mathTools.containsAll(calculus) == true) {\n",
    "    System.out.println(\"math tools contains all the calc tools\");\n",
    "}\n",
    "else {\n",
    "    System.out.println(\"math tools does not contain all the calc tools\");\n",
    "}"
   ]
  },
  {
   "cell_type": "markdown",
   "metadata": {},
   "source": [
    "sort(Comparator comp)\n",
    "\n",
    "sorts elements"
   ]
  },
  {
   "cell_type": "code",
   "execution_count": 26,
   "metadata": {
    "vscode": {
     "languageId": "java"
    }
   },
   "outputs": [
    {
     "name": "stdout",
     "output_type": "stream",
     "text": [
      "Sorted math tools [derivatives, integrals, mean, standard deviation]\n"
     ]
    }
   ],
   "source": [
    "Collections.sort(mathTools);\n",
    "System.out.println(\"Sorted math tools \" + mathTools);"
   ]
  }
 ],
 "metadata": {
  "kernelspec": {
   "display_name": "Java",
   "language": "java",
   "name": "java"
  },
  "language_info": {
   "codemirror_mode": "java",
   "file_extension": ".jshell",
   "mimetype": "text/x-java-source",
   "name": "Java",
   "pygments_lexer": "java",
   "version": "18.0.1.1+2-6"
  },
  "orig_nbformat": 4,
  "vscode": {
   "interpreter": {
    "hash": "31f2aee4e71d21fbe5cf8b01ff0e069b9275f58929596ceb00d14d90e3e16cd6"
   }
  }
 },
 "nbformat": 4,
 "nbformat_minor": 2
}
