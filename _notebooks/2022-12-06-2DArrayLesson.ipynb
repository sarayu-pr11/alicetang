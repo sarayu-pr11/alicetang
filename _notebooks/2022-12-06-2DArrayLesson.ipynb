{
 "cells": [
  {
   "cell_type": "markdown",
   "metadata": {},
   "source": [
    "# \"2D Arrays Lesson\"\n",
    "> \"Student Lead Lesson Notes and HW\"\n",
    "\n",
    "- branch: master\n",
    "- badges: true\n",
    "- comments: true\n",
    "- author: Alice Tang\n",
    "- categories: [java, jupyter, CB]"
   ]
  },
  {
   "cell_type": "markdown",
   "metadata": {},
   "source": [
    "### 2D Arrays\n",
    "- array of arrays\n",
    "- multidemensional, as many rows and colomns as you want\n",
    "\n",
    "### Initializing\n",
    "- created with 2 brackets (ex: int[][] numbers)\n",
    "- can be initialized by giving values or a size\n",
    "    - if initialzed with values, each row can have a different number of colomns\n",
    "\n",
    "### Iterating\n",
    "- use for loop inside a for loop\n",
    "- first loops iterates through rows and second loop iterates through the colomnns\n",
    "\n",
    "### Acessing\n",
    "- use indexes to access values inside array\n",
    "- [1][2] is second row, third colomn "
   ]
  },
  {
   "cell_type": "markdown",
   "metadata": {},
   "source": [
    "### HW\n",
    "- Create a class for 2D array learning.\n",
    "- Create a method too initialize a 2D array with arbitrary values\n",
    "- Create a method to reverse the 2D array and print out the values\n",
    "- Create a method that asks for the input of a position and it returns the corresponding value\n",
    "- Create a method that multiplies each value in a row and then adds all the products together\n",
    "- Create a new object to test out each method in the main function"
   ]
  }
 ],
 "metadata": {
  "kernelspec": {
   "display_name": "Python 3.9.6 64-bit",
   "language": "python",
   "name": "python3"
  },
  "language_info": {
   "name": "python",
   "version": "3.9.6"
  },
  "orig_nbformat": 4,
  "vscode": {
   "interpreter": {
    "hash": "aee8b7b246df8f9039afb4144a1f6fd8d2ca17a180786b69acc140d282b71a49"
   }
  }
 },
 "nbformat": 4,
 "nbformat_minor": 2
}
