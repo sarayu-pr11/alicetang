{
 "cells": [
  {
   "cell_type": "markdown",
   "metadata": {},
   "source": [
    "# \"2D Arrays Lesson\"\n",
    "> \"Student Lead Lesson Notes and HW\"\n",
    "\n",
    "- branch: master\n",
    "- badges: true\n",
    "- comments: true\n",
    "- author: Alice Tang\n",
    "- categories: [java, jupyter, CB]"
   ]
  },
  {
   "cell_type": "markdown",
   "metadata": {},
   "source": [
    "### 2D Arrays\n",
    "- array of arrays\n",
    "- multidemensional, as many rows and colomns as you want\n",
    "\n",
    "### Initializing\n",
    "- created with 2 brackets (ex: int[][] numbers)\n",
    "- can be initialized by giving values or a size\n",
    "    - if initialzed with values, each row can have a different number of colomns\n",
    "\n",
    "### Iterating\n",
    "- use for loop inside a for loop\n",
    "- first loops iterates through rows and second loop iterates through the colomnns\n",
    "\n",
    "### Acessing\n",
    "- use indexes to access values inside array\n",
    "- [1][2] is second row, third colomn "
   ]
  },
  {
   "cell_type": "markdown",
   "metadata": {},
   "source": [
    "### HW\n",
    "- Create a class for 2D array learning.\n",
    "- Create a method to initialize a 2D array with arbitrary values\n",
    "- Create a method to reverse the 2D array and print out the values\n",
    "- Create a method that asks for the input of a position and it returns the corresponding value\n",
    "- Create a method that multiplies each value in a row and then adds all the products together\n",
    "- Create a new object to test out each method in the main function"
   ]
  },
  {
   "cell_type": "code",
   "execution_count": null,
   "metadata": {},
   "outputs": [],
   "source": [
    "import java.util.Scanner;\n",
    "\n",
    "public class Arrays{\n",
    "    int[][] numbers = {{1,2,3,4},{5,6,7,8},{9,10,11,12},{13,14,15,16}};\n",
    "    public void printArray(){\n",
    "        for(int i = 0; i < numbers.length; i++){\n",
    "            for(int j = 0; j < numbers[i].length; j++){\n",
    "                System.out.print(numbers[i][j] + \" \");\n",
    "            }\n",
    "            System.out.println();\n",
    "        }\n",
    "    }\n",
    "}"
   ]
  }
 ],
 "metadata": {
  "kernelspec": {
   "display_name": "Java",
   "language": "java",
   "name": "java"
  },
  "language_info": {
   "name": "java",
   "version": "3.9.6"
  },
  "orig_nbformat": 4,
  "vscode": {
   "interpreter": {
    "hash": "aee8b7b246df8f9039afb4144a1f6fd8d2ca17a180786b69acc140d282b71a49"
   }
  }
 },
 "nbformat": 4,
 "nbformat_minor": 2
}
