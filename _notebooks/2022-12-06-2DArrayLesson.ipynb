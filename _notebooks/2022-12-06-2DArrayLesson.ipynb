{
 "cells": [
  {
   "cell_type": "markdown",
   "metadata": {},
   "source": [
    "# \"2D Arrays Lesson\"\n",
    "> \"Student Lead Lesson Notes and HW\"\n",
    "\n",
    "- branch: master\n",
    "- badges: true\n",
    "- comments: true\n",
    "- author: Alice Tang\n",
    "- categories: [java, jupyter, CB]"
   ]
  },
  {
   "cell_type": "markdown",
   "metadata": {},
   "source": [
    "### 2D Arrays\n",
    "- array of arrays\n",
    "- multidemensional, as many rows and colomns as you want\n",
    "\n",
    "### Initializing\n",
    "- created with 2 brackets (ex: int[][] numbers)\n",
    "- can be initialized by giving values or a size\n",
    "    - if initialzed with values, each row can have a different number of colomns\n",
    "\n",
    "### Iterating\n",
    "- use for loop inside a for loop\n",
    "- first loops iterates through rows and second loop iterates through the colomnns\n",
    "\n",
    "### Acessing\n",
    "- use indexes to access values inside array\n",
    "- [1][2] is second row, third colomn "
   ]
  },
  {
   "cell_type": "markdown",
   "metadata": {},
   "source": [
    "### HW\n",
    "- Create a class for 2D array learning.\n",
    "- Create a method to initialize a 2D array with arbitrary values\n",
    "- Create a method to reverse the 2D array and print out the values\n",
    "- Create a method that asks for the input of a position and it returns the corresponding value\n",
    "- Create a method that multiplies each value in a row and then adds all the products together\n",
    "- Create a new object to test out each method in the main function"
   ]
  },
  {
   "cell_type": "code",
   "execution_count": 9,
   "metadata": {
    "vscode": {
     "languageId": "java"
    }
   },
   "outputs": [
    {
     "name": "stdout",
     "output_type": "stream",
     "text": [
      "1 2 3 4 \n",
      "5 6 7 8 \n",
      "9 10 11 12 \n",
      "13 14 15 16 \n",
      "\n",
      "16 15 14 13 \n",
      "12 11 10 9 \n",
      "8 7 6 5 \n",
      "4 3 2 1 \n",
      "\n",
      "What row do you want? 2\n",
      "What col do you want? 3\n",
      "12\n",
      "\n",
      "result: 57264\n"
     ]
    }
   ],
   "source": [
    "import java.util.Scanner;\n",
    "\n",
    "public class Array{\n",
    "    int[][] numbers = {{1,2,3,4},{5,6,7,8},{9,10,11,12},{13,14,15,16}};\n",
    "    public void print(){\n",
    "        for(int i = 0; i < numbers.length; i++){\n",
    "            for(int j = 0; j < numbers[i].length; j++){\n",
    "                System.out.print(numbers[i][j] + \" \");\n",
    "            }\n",
    "            System.out.println();\n",
    "        }\n",
    "    }\n",
    "\n",
    "    public void reverse() {\n",
    "        for (int i = numbers.length - 1; i >= 0; i--){\n",
    "            for(int j = numbers[i].length - 1; j >= 0; j--) {\n",
    "                System.out.print(numbers[i][j]+ \" \");\n",
    "            }\n",
    "            System.out.println();\n",
    "        }\n",
    "    }\n",
    "\n",
    "    public void askIndex() {\n",
    "        Scanner scanner = new Scanner(System.in);\n",
    "    \n",
    "        System.out.print(\"What row do you want? \");\n",
    "        int rowIndex = scanner.nextInt();\n",
    "        System.out.println(rowIndex);\n",
    "    \n",
    "        System.out.print(\"What col do you want? \");\n",
    "        int colIndex = scanner.nextInt();\n",
    "        System.out.println(colIndex);\n",
    "    \n",
    "        System.out.println(numbers[rowIndex][colIndex]);\n",
    "    }\n",
    "\n",
    "    public void multSum() { \n",
    "        int a = 1;\n",
    "        int b = 0;\n",
    "\n",
    "        for(int i = 0; i < numbers.length; i++){\n",
    "            for(int j = 0; j < numbers[i].length; j++){\n",
    "                a = a * numbers[i][j];\n",
    "            }\n",
    "            b = b + a;\n",
    "            a = 1;\n",
    "        }\n",
    "        System.out.println(\"result: \"+ b);\n",
    "    }\n",
    "\n",
    "    public static void main(String[] args){\n",
    "        Array array = new Array();\n",
    "        array.print();\n",
    "        System.out.println();\n",
    "        array.reverse();\n",
    "        System.out.println();\n",
    "        array.askIndex();\n",
    "        System.out.println();\n",
    "        array.multSum();\n",
    "    }\n",
    "}\n",
    "Array.main(null);"
   ]
  }
 ],
 "metadata": {
  "kernelspec": {
   "display_name": "Java",
   "language": "java",
   "name": "java"
  },
  "language_info": {
   "codemirror_mode": "java",
   "file_extension": ".jshell",
   "mimetype": "text/x-java-source",
   "name": "Java",
   "pygments_lexer": "java",
   "version": "18.0.1.1+2-6"
  },
  "orig_nbformat": 4,
  "vscode": {
   "interpreter": {
    "hash": "aee8b7b246df8f9039afb4144a1f6fd8d2ca17a180786b69acc140d282b71a49"
   }
  }
 },
 "nbformat": 4,
 "nbformat_minor": 2
}
