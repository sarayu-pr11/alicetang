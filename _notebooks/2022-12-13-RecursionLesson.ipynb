{
 "cells": [
  {
   "attachments": {},
   "cell_type": "markdown",
   "metadata": {},
   "source": [
    "# \"Recursion Lesson\"\n",
    "> \"Student Lead Lesson Notes and HW\"\n",
    "\n",
    "- branch: master\n",
    "- badges: true\n",
    "- comments: true\n",
    "- author: Alice Tang\n",
    "- categories: [java, jupyter, CB]"
   ]
  },
  {
   "attachments": {},
   "cell_type": "markdown",
   "metadata": {},
   "source": [
    "### Vocab\n",
    "- Big O notation for Hash map, Binary Search, Single loop, Nested Loop\n",
    "    - Big O notation describes the set of all algorithms that run no worse than a certain speed, no better than a certain speed, and at a certain speed\n",
    "    - Shows the number of operations it will perform"
   ]
  },
  {
   "attachments": {},
   "cell_type": "markdown",
   "metadata": {},
   "source": [
    "### Recursion \n",
    "- a recursive method is a method that calls itself\n",
    "- contains at least one base case that halts recursion and once recursive call\n",
    "- each recursive call has its own local variables\n",
    "- parameter values take progress of recursive progress\n",
    "- recursion can be replaced with an iterative and give same result\n",
    "- Recursion can traverse String, array, and ArrayList objects\n",
    "\n",
    "### Binary Search (way to use recursion)\n",
    "- find midpoint and choose upper or lower half of section over and over agin until number is located\n",
    "- code to do this would use recursion and call the search function in itself\n",
    "\n",
    "### Merge Sort (way to use recursion)\n",
    "- divide and conquer algortih to Sort ArrayList\n",
    "- divies array in halves and then calls itself for the two halves in order to sort them\n",
    "- mergeds the two sorted halves into one list\n",
    "\n",
    "### Recursion Tree\n",
    "- recursion trees are a method for visualizing each recurisve case until the base case is reached\n",
    "- in order for recursion block to finish, there must be some speicial case in which they dont call themselves (base case)"
   ]
  },
  {
   "attachments": {},
   "cell_type": "markdown",
   "metadata": {},
   "source": [
    "### HW\n",
    "- google form MC"
   ]
  }
 ],
 "metadata": {
  "kernelspec": {
   "display_name": "Python 3",
   "language": "python",
   "name": "python3"
  },
  "language_info": {
   "name": "python",
   "version": "3.9.6"
  },
  "orig_nbformat": 4,
  "vscode": {
   "interpreter": {
    "hash": "aee8b7b246df8f9039afb4144a1f6fd8d2ca17a180786b69acc140d282b71a49"
   }
  }
 },
 "nbformat": 4,
 "nbformat_minor": 2
}
