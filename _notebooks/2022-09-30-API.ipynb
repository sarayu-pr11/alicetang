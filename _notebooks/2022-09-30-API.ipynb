{
 "cells": [
  {
   "cell_type": "markdown",
   "metadata": {},
   "source": [
    "# \"API\"\n",
    "> \"Fetched and Backed API Hacks\"\n",
    "\n",
    "- branch: master\n",
    "- badges: true\n",
    "- comments: true\n",
    "- author: Alice Tang\n",
    "- categories: [java, jupyter]"
   ]
  },
  {
   "cell_type": "code",
   "execution_count": null,
   "metadata": {},
   "outputs": [],
   "source": []
  }
 ],
 "metadata": {
  "kernelspec": {
   "display_name": "Java",
   "language": "java",
   "name": "java"
  },
  "language_info": {
   "name": "java"
  },
  "orig_nbformat": 4
 },
 "nbformat": 4,
 "nbformat_minor": 2
}
