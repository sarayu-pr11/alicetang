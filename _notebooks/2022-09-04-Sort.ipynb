{
 "cells": [
  {
   "cell_type": "markdown",
   "metadata": {},
   "source": [
    "# \"Number Sort\"\n",
    "> \"Math Menu Option 4\"\n",
    "\n",
    "- toc: true\n",
    "- branch: master\n",
    "- badges: true\n",
    "- comments: true\n",
    "- author: Alice Tang\n",
    "- categories: [java, jupyter]"
   ]
  },
  {
   "cell_type": "code",
   "execution_count": 12,
   "metadata": {
    "vscode": {
     "languageId": "java"
    }
   },
   "outputs": [
    {
     "name": "stdout",
     "output_type": "stream",
     "text": [
      "how many values would you like to input?\n",
      "enter value: 3.2\n",
      "enter value: 5.7\n",
      "enter value: 1.2\n",
      "enter value: 8.6\n",
      "enter value: 5.4\n",
      "\n",
      "Sorted Numbers: \n",
      "1.2, 3.2, 5.4, 5.7, 8.6, "
     ]
    }
   ],
   "source": [
    "import java.util.Scanner;\n",
    "\n",
    "public class Sort{\n",
    "    public static void main(String[] args) {\n",
    "        String userInputStr;\n",
    "        int numofNum;\n",
    "        Scanner inputStream = new Scanner(System.in);\n",
    "\n",
    "        System.out.print(\"how many values would you like to input?\");\n",
    "        userInputStr = inputStream.nextLine();\n",
    "        numofNum = Integer.parseInt(userInputStr);\n",
    "\n",
    "        double[] arr = new double [numofNum];  //creates array with doubles, numofNum number of values in the array\n",
    "        for (int i=0; i<numofNum; i++)       //gets info from user for each spot in array\n",
    "        {\n",
    "            System.out.print(\"\\nenter value: \");\n",
    "            userInputStr = inputStream.nextLine();\n",
    "            arr[i] = Double.parseDouble(userInputStr);\n",
    "            System.out.print(arr[i]);\n",
    "        }\n",
    "\n",
    "        Arrays.sort(arr);   //sort array\n",
    "        System.out.println(\"\\n\\nSorted Numbers: \");\n",
    "        for (int i=0; i<numofNum; i++)       //prints each spot in array\n",
    "        {\n",
    "            System.out.print(arr[i]+ \", \");\n",
    "        }\n",
    "    }\n",
    "}\n",
    "\n",
    "Sort.main(null);"
   ]
  }
 ],
 "metadata": {
  "kernelspec": {
   "display_name": "Java",
   "language": "java",
   "name": "java"
  },
  "language_info": {
   "codemirror_mode": "java",
   "file_extension": ".jshell",
   "mimetype": "text/x-java-source",
   "name": "Java",
   "pygments_lexer": "java",
   "version": "18.0.1.1+2-6"
  },
  "orig_nbformat": 4,
  "vscode": {
   "interpreter": {
    "hash": "aee8b7b246df8f9039afb4144a1f6fd8d2ca17a180786b69acc140d282b71a49"
   }
  }
 },
 "nbformat": 4,
 "nbformat_minor": 2
}
