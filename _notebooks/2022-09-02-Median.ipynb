{
 "cells": [
  {
   "cell_type": "markdown",
   "metadata": {},
   "source": [
    "# \"Median Calculator\"\n",
    "> \"Math Menu Option 3\"\n",
    "\n",
    "- toc: true\n",
    "- branch: master\n",
    "- badges: true\n",
    "- comments: true\n",
    "- author: Alice Tang\n",
    "- categories: [java, jupyter]"
   ]
  },
  {
   "cell_type": "code",
   "execution_count": 11,
   "metadata": {
    "vscode": {
     "languageId": "java"
    }
   },
   "outputs": [
    {
     "name": "stdout",
     "output_type": "stream",
     "text": [
      "how many values would you like to input?\n",
      "enter value: 2.2\n",
      "enter value: 1.1\n",
      "enter value: 4.4\n",
      "enter value: 5.5\n",
      "enter value: 3.3\n",
      "enter value: 6.6\n",
      "Median: 3.85\n"
     ]
    }
   ],
   "source": [
    "import java.util.Scanner;\n",
    "\n",
    "public class Median {\n",
    "    public static void main(String[] args) {\n",
    "        String userInputStr;\n",
    "        double medianNum;\n",
    "        int numofNum;\n",
    "        Scanner inputStream = new Scanner(System.in);\n",
    "\n",
    "        System.out.print(\"how many values would you like to input?\");\n",
    "        userInputStr = inputStream.nextLine();\n",
    "        numofNum = Integer.parseInt(userInputStr);\n",
    "\n",
    "        double[] arr = new double [numofNum]; //creates array with doubles, numofNum number of values in the array\n",
    "        for (int i=0; i<numofNum; i++)       //gets info from user for each spot in array\n",
    "        {\n",
    "            System.out.print(\"\\nenter value: \");\n",
    "            userInputStr = inputStream.nextLine();\n",
    "            arr[i] = Double.parseDouble(userInputStr);\n",
    "            System.out.print(arr[i]);\n",
    "        }\n",
    "        int n = arr.length;\n",
    "        System.out.println(\"\\nMedian: \" + findMed(arr, n));\n",
    "    }\n",
    "\n",
    "    public static double findMed(double arr[], int n)\n",
    "    {\n",
    "        // sort the array\n",
    "        Arrays.sort(arr);\n",
    " \n",
    "        // check for even case\n",
    "        if (n % 2 != 0)\n",
    "        {\n",
    "            return (double)arr[n / 2];\n",
    "        }\n",
    "        return (double)(arr[(n - 1) / 2] + arr[n / 2]) / 2.0;\n",
    "    }\n",
    "}\n",
    "\n",
    "Median.main(null);"
   ]
  }
 ],
 "metadata": {
  "kernelspec": {
   "display_name": "Java",
   "language": "java",
   "name": "java"
  },
  "language_info": {
   "codemirror_mode": "java",
   "file_extension": ".jshell",
   "mimetype": "text/x-java-source",
   "name": "Java",
   "pygments_lexer": "java",
   "version": "18.0.1.1+2-6"
  },
  "orig_nbformat": 4,
  "vscode": {
   "interpreter": {
    "hash": "aee8b7b246df8f9039afb4144a1f6fd8d2ca17a180786b69acc140d282b71a49"
   }
  }
 },
 "nbformat": 4,
 "nbformat_minor": 2
}
