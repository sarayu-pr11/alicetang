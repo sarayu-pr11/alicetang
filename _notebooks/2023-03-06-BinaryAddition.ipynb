{
 "cells": [
  {
   "attachments": {},
   "cell_type": "markdown",
   "metadata": {},
   "source": [
    "# \"Binary Addition\"\n",
    "> \"Seed EC before tech talk\"\n",
    "\n",
    "- branch: master\n",
    "- badges: true\n",
    "- comments: true\n",
    "- author: Alice Tang\n",
    "- categories: [java, jupyter]"
   ]
  },
  {
   "cell_type": "code",
   "execution_count": 4,
   "metadata": {
    "vscode": {
     "languageId": "java"
    }
   },
   "outputs": [
    {
     "name": "stdout",
     "output_type": "stream",
     "text": [
      "Binary addition of 1 and 1 is 10\n"
     ]
    }
   ],
   "source": [
    "public class BinaryAddition {\n",
    "    public static void main(String[] args) {\n",
    "        int num1 = 1; // binary number 1\n",
    "        int num2 = 1; // binary number 1\n",
    "        int sum = num1 + num2; // sum of binary numbers\n",
    "        \n",
    "        // convert sum to binary string\n",
    "        String binarySum = Integer.toBinaryString(sum);\n",
    "        \n",
    "        System.out.println(\"Binary addition of \" + num1 + \" and \" + num2 + \" is \" + binarySum);\n",
    "    }\n",
    "}\n",
    "BinaryAddition.main(null)"
   ]
  }
 ],
 "metadata": {
  "kernelspec": {
   "display_name": "Java",
   "language": "java",
   "name": "java"
  },
  "language_info": {
   "codemirror_mode": "java",
   "file_extension": ".jshell",
   "mimetype": "text/x-java-source",
   "name": "Java",
   "pygments_lexer": "java",
   "version": "18.0.1.1+2-6"
  },
  "orig_nbformat": 4
 },
 "nbformat": 4,
 "nbformat_minor": 2
}
