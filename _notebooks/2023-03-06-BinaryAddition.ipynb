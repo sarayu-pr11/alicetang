{
 "cells": [
  {
   "attachments": {},
   "cell_type": "markdown",
   "metadata": {},
   "source": [
    "# \"Binary Addition\"\n",
    "> \"Seed EC before tech talk\"\n",
    "\n",
    "- branch: master\n",
    "- badges: true\n",
    "- comments: true\n",
    "- author: Alice Tang\n",
    "- categories: [java, jupyter]"
   ]
  },
  {
   "cell_type": "code",
   "execution_count": 1,
   "metadata": {},
   "outputs": [
    {
     "name": "stdout",
     "output_type": "stream",
     "text": [
      "Enter the first number\n",
      "1\n",
      "Enter the second number\n",
      "1\n",
      "Binary addition of 1 and 1 is 10\n"
     ]
    }
   ],
   "source": [
    "import java.util.Scanner;\n",
    "public class BinaryAddition {\n",
    "\n",
    "    public static void main(String[] args) {\n",
    "        Scanner myObj = new Scanner(System.in);  \n",
    "        System.out.println(\"Enter the first number\");\n",
    "        String num1 = myObj.nextLine();\n",
    "        int number1 = Integer.parseInt(num1);\n",
    "        System.out.println(num1);\n",
    "\n",
    "        System.out.println(\"Enter the second number\");\n",
    "        String num2 = myObj.nextLine();\n",
    "        int number2 = Integer.parseInt(num2);\n",
    "        System.out.println(num2);\n",
    "\n",
    "        //int number1 = 0b1; // binary number 1        0b means that it is a binary number\n",
    "        //int number2 = 0b1; // binary number 2\n",
    "        int sum = number1 + number2; // add the binary numbers\n",
    "        \n",
    "        // convert the sum to a binary string\n",
    "        String binarySum = Integer.toBinaryString(sum);\n",
    "        \n",
    "        System.out.println(\"Binary addition of \" + number1 + \" and \" + number2 + \" is \" + binarySum);\n",
    "    }\n",
    "}\n",
    "BinaryAddition.main(null)"
   ]
  },
  {
   "cell_type": "code",
   "execution_count": 5,
   "metadata": {},
   "outputs": [
    {
     "name": "stdout",
     "output_type": "stream",
     "text": [
      "Main method before changeInt(n): n = 5\n",
      "In changeInt method\n",
      "\tBefore n += 10: n = 5\n",
      "\tAfter n += 10: n = 15\n",
      "Main method after changeInt(n): n = 5\n"
     ]
    }
   ],
   "source": [
    "public class PassByValue {\n",
    "    \n",
    "    public static void changeInt(int n) {\n",
    "        System.out.println(\"In changeInt method\");\n",
    "        System.out.println(\"\\tBefore n += 10: n = \" + n); // prints 5\n",
    "        n = n += 10;\n",
    "        System.out.println(\"\\tAfter n += 10: n = \" + n); // prints 10\n",
    "    }\n",
    "\n",
    "    public static void main(String[] args) {\n",
    "        int n = 5;\n",
    "        System.out.println(\"Main method before changeInt(n): n = \" + n); // prints 5\n",
    "        changeInt(n);\n",
    "        System.out.println(\"Main method after changeInt(n): n = \" + n); // still prints 5\n",
    "    }\n",
    "}\n",
    "PassByValue.main(null);"
   ]
  },
  {
   "cell_type": "code",
   "execution_count": 8,
   "metadata": {},
   "outputs": [
    {
     "name": "stdout",
     "output_type": "stream",
     "text": [
      "Main method before changeInteger(n): n = 5 hash code = 5\n",
      "In changeInteger method\n",
      "\tBefore change: n = 5 hash code = 5\n",
      "\tAfter change: n = 15 hash code = 15\n",
      "Main method after changeInteger(n): n = 5 hash code = 5\n"
     ]
    }
   ],
   "source": [
    "public class PassByValueOrReference {\n",
    "    \n",
    "    public static void changeInteger(Integer n) {\n",
    "        System.out.println(\"In changeInteger method\");\n",
    "        System.out.println(\"\\tBefore change: n = \" + \n",
    "                            n + // prints 5\n",
    "                            \" hash code = \" + \n",
    "                            n.hashCode()); \n",
    "\n",
    "        n += 10;  // behind the scenes, this is:  n = new Integer(n+10)\n",
    "        \n",
    "        System.out.println(\"\\tAfter change: n = \" + \n",
    "                            n + // prints 15\n",
    "                            \" hash code = \" + \n",
    "                            n.hashCode()); \n",
    "    }\n",
    "\n",
    "    public static void main(String[] args) {\n",
    "        Integer n = 5;\n",
    "        System.out.println(\"Main method before changeInteger(n): n = \" + \n",
    "                            n + // prints 5\n",
    "                            \" hash code = \" + \n",
    "                            n.hashCode()); \n",
    "\n",
    "        changeInteger(n);\n",
    "        \n",
    "        System.out.println(\"Main method after changeInteger(n): n = \" + \n",
    "                            n +  // now prints 15\n",
    "                            \" hash code = \" + \n",
    "                            n.hashCode());   \n",
    "    }                         \n",
    "}\n",
    "PassByValueOrReference.main(null);"
   ]
  },
  {
   "cell_type": "code",
   "execution_count": 9,
   "metadata": {},
   "outputs": [
    {
     "name": "stdout",
     "output_type": "stream",
     "text": [
      "Main method before changeAtomicInteger(n): n = 5 hash code = 754015568\n",
      "In changeAtomicInteger method\n",
      "\tBefore change: n = 5 hash code = 754015568\n",
      "\tAfter change: n = 15 hash code = 754015568\n",
      "Main method after changeAtomicInteger(n): n = 15 hash code = 754015568\n"
     ]
    }
   ],
   "source": [
    "import java.util.concurrent.atomic.AtomicInteger;\n",
    "\n",
    "public class PassByReference {\n",
    "    \n",
    "    public static void changeAtomicInteger(AtomicInteger n) {\n",
    "        System.out.println(\"In changeAtomicInteger method\");\n",
    "        System.out.println(\"\\tBefore change: n = \" + \n",
    "                            n + // prints 5\n",
    "                            \" hash code = \" + \n",
    "                            n.hashCode()); \n",
    "        n.set(n.get() + 10);  // at this point, we are clearly working with reference data type\n",
    "        System.out.println(\"\\tAfter change: n = \" + \n",
    "                            n + // prints 15\n",
    "                            \" hash code = \" + \n",
    "                            n.hashCode()); \n",
    "}\n",
    "\n",
    "    public static void main(String[] args) {\n",
    "        AtomicInteger n = new AtomicInteger(5); // unlike conventional wrapper class, this requires new\n",
    "        System.out.println(\"Main method before changeAtomicInteger(n): n = \" + \n",
    "                            n + // prints 5\n",
    "                            \" hash code = \" + \n",
    "                            n.hashCode()); \n",
    "        changeAtomicInteger(n);\n",
    "        System.out.println(\"Main method after changeAtomicInteger(n): n = \" + \n",
    "                            n +  // now prints 15\n",
    "                            \" hash code = \" + \n",
    "                            n.hashCode()); \n",
    "    }\n",
    "}\n",
    "PassByReference.main(null);"
   ]
  },
  {
   "cell_type": "code",
   "execution_count": 10,
   "metadata": {},
   "outputs": [
    {
     "name": "stdout",
     "output_type": "stream",
     "text": [
      "Before: 21 16\n",
      "After: 16 21\n",
      "\n",
      "Before: 16 21\n",
      "After: 16 21\n",
      "\n",
      "Before: 16 -1\n",
      "After: -1 16\n",
      "\n"
     ]
    }
   ],
   "source": [
    "public class IntByReference {\n",
    "    private int value;\n",
    "\n",
    "    public IntByReference(Integer value) {\n",
    "        this.value = value;\n",
    "    }\n",
    "\n",
    "    public String toString() {\n",
    "        return (String.format(\"%d\", this.value));\n",
    "    }\n",
    "\n",
    "    public void swapToLowHighOrder(IntByReference i) {\n",
    "        if (this.value > i.value) {\n",
    "            int tmp = this.value;\n",
    "            this.value = i.value;\n",
    "            i.value = tmp;\n",
    "        }\n",
    "    }\n",
    "\n",
    "    public static void swapper(int n0, int n1) {\n",
    "        IntByReference a = new IntByReference(n0);\n",
    "        IntByReference b = new IntByReference(n1);\n",
    "        System.out.println(\"Before: \" + a + \" \" + b);\n",
    "        a.swapToLowHighOrder(b);  // conditionally build swap method to change values of a, b\n",
    "        System.out.println(\"After: \" + a + \" \" + b);\n",
    "        System.out.println();\n",
    "    }\n",
    "\n",
    "    public static void main(String[] ags) {\n",
    "        IntByReference.swapper(21, 16);\n",
    "        IntByReference.swapper(16, 21);\n",
    "        IntByReference.swapper(16, -1);\n",
    "    }\n",
    "\n",
    "}\n",
    "IntByReference.main(null);"
   ]
  }
 ],
 "metadata": {
  "kernelspec": {
   "display_name": "Java",
   "language": "java",
   "name": "java"
  },
  "language_info": {
   "codemirror_mode": "java",
   "file_extension": ".jshell",
   "mimetype": "text/x-java-source",
   "name": "java",
   "pygments_lexer": "java",
   "version": "18.0.1.1+2-6"
  },
  "orig_nbformat": 4
 },
 "nbformat": 4,
 "nbformat_minor": 2
}
