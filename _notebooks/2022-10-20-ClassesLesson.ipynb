{
 "cells": [
  {
   "cell_type": "markdown",
   "metadata": {},
   "source": [
    "# \"Classes Lesson\"\n",
    "> \"Student Lead Lesson Notes and HW\"\n",
    "\n",
    "- branch: master\n",
    "- badges: true\n",
    "- comments: true\n",
    "- author: Alice Tang\n",
    "- categories: [java, jupyter]"
   ]
  },
  {
   "cell_type": "markdown",
   "metadata": {},
   "source": [
    "# Classes\n",
    "- classes are \"blueprints\" that we use to instantiate objects\n",
    "- classes are an essential aspect of OOP \n",
    "\n",
    "## Anatomy\n",
    "Object\n",
    "- state, attributes, behavior\n",
    "- intance of a class\n",
    "- represented by an instance in the program\n",
    "\n",
    "Class\n",
    "- defines an abstract data type\n",
    "- object references: string variable\n",
    "- instance variables : attributes, behaviors, data for objects \n",
    "\n",
    "## Functions\n",
    "- methods : the action or behavior of an object\n",
    "- constructor : special method for object instantiation, sets the initial values for variables, default constructors have no arguments\n",
    "- main : tests the class\n",
    "- accesor : allows you to access the values of varaibles, returns a copy of the variable\n",
    "- mutator : allows you to change to values of variables\n",
    "\n",
    "## Writing Methods\n",
    "- method_definition(Modifiers, Return Type)\n",
    "- method_signature(Name, Parameters)\n",
    "- method_body(Code)\n",
    "- \"Object.method()\"\n",
    "\n"
   ]
  },
  {
   "cell_type": "markdown",
   "metadata": {},
   "source": [
    "# Homework : 2021 FRQ 1A, 3a \n"
   ]
  }
 ],
 "metadata": {
  "kernelspec": {
   "display_name": "Java",
   "language": "java",
   "name": "java"
  },
  "language_info": {
   "name": "java"
  },
  "orig_nbformat": 4
 },
 "nbformat": 4,
 "nbformat_minor": 2
}
