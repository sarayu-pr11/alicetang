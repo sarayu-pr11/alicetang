{
 "cells": [
  {
   "cell_type": "markdown",
   "metadata": {},
   "source": [
    "# \"Classes Lesson\"\n",
    "> \"Student Lead Lesson Notes and HW\"\n",
    "\n",
    "- branch: master\n",
    "- badges: true\n",
    "- comments: true\n",
    "- author: Alice Tang\n",
    "- categories: [java, jupyter, CB]"
   ]
  },
  {
   "cell_type": "markdown",
   "metadata": {},
   "source": [
    "# Classes\n",
    "- classes are \"blueprints\" that we use to instantiate objects\n",
    "- classes are an essential aspect of OOP \n",
    "\n",
    "## Anatomy\n",
    "Object\n",
    "- state, attributes, behavior\n",
    "- intance of a class\n",
    "- represented by an instance in the program\n",
    "\n",
    "Class\n",
    "- defines an abstract data type\n",
    "- object references: string variable\n",
    "- instance variables : attributes, behaviors, data for objects \n",
    "\n",
    "## Functions\n",
    "- methods : the action or behavior of an object\n",
    "- constructor : special method for object instantiation, sets the initial values for variables, default constructors have no arguments\n",
    "- main : tests the class\n",
    "- accesor : allows you to access the values of varaibles, returns a copy of the variable\n",
    "- mutator : allows you to change to values of variables\n",
    "\n",
    "## Writing Methods\n",
    "- method_definition(Modifiers, Return Type)\n",
    "- method_signature(Name, Parameters)\n",
    "- method_body(Code)\n",
    "- \"Object.method()\"\n",
    "\n"
   ]
  },
  {
   "cell_type": "markdown",
   "metadata": {},
   "source": [
    "## Homework : 2021 FRQ 1A, 3a \n"
   ]
  },
  {
   "cell_type": "markdown",
   "metadata": {},
   "source": [
    "1a)"
   ]
  },
  {
   "cell_type": "code",
   "execution_count": 5,
   "metadata": {},
   "outputs": [],
   "source": [
    "public int scoreGuess (String guess)\n",
    "{\n",
    "    int count = 0;\n",
    "    for (int i = 0; i <= secret.length() - guess.length(); i++)\n",
    "    {\n",
    "        if (secret.substring(i, i + guess.length()).equals (guess))\n",
    "        {\n",
    "            count++;\n",
    "        }\n",
    "    }\n",
    "    return count * guess.length() * guess.length();\n",
    "}\n"
   ]
  },
  {
   "cell_type": "markdown",
   "metadata": {},
   "source": [
    "3a)"
   ]
  },
  {
   "cell_type": "code",
   "execution_count": null,
   "metadata": {},
   "outputs": [],
   "source": [
    "public void addMembers(String[] names, int gradYear ){\n",
    "    \n",
    "    for( String n : names ){\n",
    "        memberList.add(new MemberInfo( n, gradYear, true) );\n",
    "    }\n",
    "    }"
   ]
  }
 ],
 "metadata": {
  "kernelspec": {
   "display_name": "Python 3.9.6 64-bit",
   "language": "python",
   "name": "python3"
  },
  "language_info": {
   "codemirror_mode": "java",
   "file_extension": ".jshell",
   "mimetype": "text/x-java-source",
   "name": "python",
   "pygments_lexer": "java",
   "version": "3.9.6"
  },
  "orig_nbformat": 4,
  "vscode": {
   "interpreter": {
    "hash": "aee8b7b246df8f9039afb4144a1f6fd8d2ca17a180786b69acc140d282b71a49"
   }
  }
 },
 "nbformat": 4,
 "nbformat_minor": 2
}
