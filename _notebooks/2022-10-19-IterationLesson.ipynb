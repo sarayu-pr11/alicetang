{
 "cells": [
  {
   "cell_type": "markdown",
   "metadata": {},
   "source": [
    "# \"Iteration Lesson\"\n",
    "> \"Student Lead Lesson Notes and HW\"\n",
    "\n",
    "- branch: master\n",
    "- badges: true\n",
    "- comments: true\n",
    "- author: Alice Tang\n",
    "- categories: [java, jupyter, CB]"
   ]
  },
  {
   "cell_type": "markdown",
   "metadata": {},
   "source": [
    "### While Loop\n",
    "loop runs as long as the while condition is true/met\n",
    "\n",
    "### For Loop\n",
    "loop runs for a set amount of iterations\n",
    "\n",
    "### Recursion Loop\n",
    "recursive function calls itself repeditly, forming a loop\n",
    "\n",
    "### Nested Iteration\n",
    "previous 3 types of loops are applicable, loop inside a loop\n"
   ]
  },
  {
   "cell_type": "markdown",
   "metadata": {},
   "source": [
    "## While Loop Practice"
   ]
  },
  {
   "cell_type": "code",
   "execution_count": 5,
   "metadata": {},
   "outputs": [
    {
     "name": "stdout",
     "output_type": "stream",
     "text": [
      "Enter a number in the range of 1 through 100: Invalid input. Enter a number in the range of 1 through 100: Invalid input. Enter a number in the range of 1 through 100: "
     ]
    }
   ],
   "source": [
    "import java.util.Scanner;\n",
    "\n",
    "public class Checker \n",
    "{\n",
    "    public static void main(String[] args) \n",
    "    {\n",
    "        int number;  \n",
    "\t\n",
    "        // Create a Scanner object for keyboard input.  \n",
    "        Scanner keyboard = new Scanner(System.in);  \n",
    "             \n",
    "        // Get a number from the user.  \n",
    "        System.out.print(\"Enter a number in the range of 1 through 100: \");  \n",
    "        number = keyboard.nextInt();  \n",
    "\n",
    "        while ((number < 1) || (number > 100))\n",
    "        {  \n",
    "           System.out.print(\"Invalid input. Enter a number in the range \" +  \n",
    "                            \"of 1 through 100: \");  \n",
    "           number = keyboard.nextInt();  \n",
    "        } \n",
    "    }\n",
    "}\n",
    "Checker.main(null)"
   ]
  },
  {
   "cell_type": "markdown",
   "metadata": {},
   "source": [
    "## For Loop Practice"
   ]
  },
  {
   "cell_type": "code",
   "execution_count": 4,
   "metadata": {},
   "outputs": [
    {
     "name": "stdout",
     "output_type": "stream",
     "text": [
      "count is 0\n",
      "count is 1\n",
      "count is 2\n",
      "count is 3\n",
      "count is 4\n"
     ]
    }
   ],
   "source": [
    "public class LoopConversion \n",
    "{\n",
    "    public static void main(String[] args) \n",
    "    {\n",
    "        int count ;\n",
    "        //convert to for loop\n",
    "        for (count=0; count<5; count++)\n",
    "        {\n",
    "            System.out.println(\"count is \" + count);\n",
    "        }\n",
    "    }\n",
    "}\n",
    "LoopConversion.main(null)"
   ]
  },
  {
   "cell_type": "markdown",
   "metadata": {},
   "source": [
    "## Pop Quiz"
   ]
  },
  {
   "cell_type": "code",
   "execution_count": 9,
   "metadata": {},
   "outputs": [
    {
     "name": "stdout",
     "output_type": "stream",
     "text": [
      "0\n",
      "1\n",
      "2\n",
      "3\n",
      "4\n",
      "0\n",
      "1\n",
      "2\n",
      "3\n",
      "4\n"
     ]
    }
   ],
   "source": [
    "public class PopQuiz \n",
    "{\n",
    "    public static void main(String[] args) \n",
    "    {\n",
    "        int count;\n",
    "        \n",
    "        for (count=0; count<5; count++)\n",
    "        {\n",
    "            System.out.println(count);\n",
    "        }\n",
    "\n",
    "        int count2 = 0;\n",
    "\n",
    "        while (count2 < 5)\n",
    "        {\n",
    "            System.out.println(count2);\n",
    "            count2++ ;\n",
    "        }\n",
    "    }\n",
    "}\n",
    "PopQuiz.main(null)"
   ]
  },
  {
   "cell_type": "markdown",
   "metadata": {},
   "source": [
    "## Homework- Choose one or do both\n",
    "\n",
    "- Write a program where the user inputs their monthly budget. The loop should then ask the user to input each of their monthly expenses. These expenses should be kept in a running total. The final output should display if the user is over or under their budget for the month, and by how much.\n",
    "- Write a program where a random number is generated. Then the user tries to guess the number. If they guess too high display something to let them know, and same for if they guess a number that is too low. The loop must iterate until the number is guessed correctly.\n",
    "\n",
    "Also complete the quiz."
   ]
  },
  {
   "cell_type": "markdown",
   "metadata": {},
   "source": [
    "HW Part 2"
   ]
  },
  {
   "cell_type": "code",
   "execution_count": 3,
   "metadata": {},
   "outputs": [
    {
     "name": "stdout",
     "output_type": "stream",
     "text": [
      "A number is chosen between 1 to 100.Guess the number within 5 trials.\n",
      "Guess a number:\n",
      "The number is less than 50\n",
      "Guess a number:\n",
      "The number is greater than 25\n",
      "Guess a number:\n",
      "The number is greater than 13\n",
      "Guess a number:\n",
      "The number is greater than 19\n",
      "Guess a number:\n",
      "You have used all 5 trials.\n",
      "The number was 32\n"
     ]
    }
   ],
   "source": [
    "import java.util.Scanner;\n",
    " \n",
    "public class Numberguesser {\n",
    "\n",
    "    public static void\n",
    "    guessnumber()\n",
    "    {\n",
    "        \n",
    "        Scanner scanner = new Scanner(System.in);\n",
    " \n",
    "        int number = 1 + (int)(100* Math.random());\n",
    " \n",
    "        int i, guess;\n",
    " \n",
    "        System.out.println(\n",
    "            \"A number is chosen between 1 to 100.\"\n",
    "            + \"Guess the number\"\n",
    "            + \" within 5 trials.\");\n",
    " \n",
    "\n",
    "        for (i = 0; i < 5; i++) {\n",
    " \n",
    "            System.out.println(\n",
    "                \"Guess a number:\");\n",
    " \n",
    "\n",
    "            guess = scanner.nextInt();\n",
    "\n",
    "            if (number == guess) {\n",
    "                System.out.println(\"You guessed the number.\");\n",
    "                break;\n",
    "            }\n",
    "            else if (number > guess&& i != 5 - 1) {\n",
    "                System.out.println(\"The number is greater than \" + guess);\n",
    "            }\n",
    "            else if (number < guess && i != 5 - 1) {\n",
    "                System.out.println(\"The number is less than \" + guess);\n",
    "            }\n",
    "        }\n",
    " \n",
    "        if (i == 5) {\n",
    "            System.out.println(\n",
    "                \"You have used all 5 trials.\");\n",
    " \n",
    "            System.out.println(\n",
    "                \"The number was \" + number);\n",
    "        }\n",
    "    }\n",
    " \n",
    "    // Driver Code\n",
    "    public static void\n",
    "    main(String arg[])\n",
    "    {\n",
    " \n",
    "        // Function Call\n",
    "        guessnumber();\n",
    "    }\n",
    "}\n",
    "\n",
    "Numberguesser.main(null);"
   ]
  },
  {
   "cell_type": "markdown",
   "metadata": {},
   "source": [
    "Quiz\n",
    "![This is an image](https://github.com/tangalice/alicetang/blob/master/images/quizresults.png?raw=true)"
   ]
  }
 ],
 "metadata": {
  "kernelspec": {
   "display_name": "Java",
   "language": "java",
   "name": "java"
  },
  "language_info": {
   "codemirror_mode": "java",
   "file_extension": ".jshell",
   "mimetype": "text/x-java-source",
   "name": "java",
   "pygments_lexer": "java",
   "version": "18.0.1.1+2-6"
  },
  "orig_nbformat": 4,
  "vscode": {
   "interpreter": {
    "hash": "aee8b7b246df8f9039afb4144a1f6fd8d2ca17a180786b69acc140d282b71a49"
   }
  }
 },
 "nbformat": 4,
 "nbformat_minor": 2
}
