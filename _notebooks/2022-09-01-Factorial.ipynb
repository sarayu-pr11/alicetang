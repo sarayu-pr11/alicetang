{
 "cells": [
  {
   "cell_type": "markdown",
   "metadata": {},
   "source": [
    "# \"Factorial Calculator\"\n",
    "> \"Math Menu Option\"\n",
    "\n",
    "- toc: true\n",
    "- branch: master\n",
    "- badges: true\n",
    "- comments: true\n",
    "- author: Alice Tang\n",
    "- categories: [java, jupyter]"
   ]
  },
  {
   "cell_type": "code",
   "execution_count": 8,
   "metadata": {
    "vscode": {
     "languageId": "java"
    }
   },
   "outputs": [
    {
     "name": "stdout",
     "output_type": "stream",
     "text": [
      "\n",
      "Input an integer: \n",
      "Factorial of 7 is 5040\n",
      "Continue(Yes/No)? Yes\n",
      "\n",
      "Input an integer: \n",
      "Factorial of 4 is 24\n",
      "Continue(Yes/No)? yeah\n",
      "\n",
      "Input an integer: \n",
      "Factorial of 9 is 362880\n",
      "Continue(Yes/No)? noo"
     ]
    }
   ],
   "source": [
    "import java.util.*;\n",
    "import java.lang.Math;\n",
    "\n",
    "public class Factorial\n",
    "{  \n",
    "   //Constants\n",
    "   public static final String REPORT = \"\\nFactorial of \";\n",
    "   \n",
    "   public static void main(String[] args)\n",
    "   {\n",
    "      String userInputStr; \n",
    "      int userNum, fact;\n",
    "      Scanner inputStream = new Scanner(System.in);\n",
    "\n",
    "      while(true)\n",
    "      {\n",
    "         System.out.print(\"\\nInput an integer: \");\n",
    "         userInputStr = inputStream.nextLine();\n",
    "         userNum = Integer.parseInt(userInputStr);\n",
    "         fact = findFact(userNum);\n",
    "         System.out.print(REPORT + userNum +\" is \"+fact);\n",
    "\n",
    "         System.out.print(\"\\nContinue(Yes/No)? \");\n",
    "         userInputStr = inputStream.nextLine();\n",
    "         char a = userInputStr.charAt(0);\n",
    "         if ((a == 'y') || (a == 'Y'))\n",
    "         {\n",
    "            System.out.print(userInputStr+\"\\n\");\n",
    "         }\n",
    "         if ((a == 'n') || (a == 'N'))\n",
    "         {\n",
    "            System.out.print(userInputStr);\n",
    "            break;\n",
    "         }\n",
    "      }\n",
    "   }\n",
    "\n",
    "   static int findFact(int n)\n",
    "   {\n",
    "      int f = 1;\n",
    "      for (int i=1; i<n+1; i++)\n",
    "      {\n",
    "         f = f * i;\n",
    "      }\n",
    "      return f;\n",
    "   }\n",
    "}\n",
    "\n",
    "Factorial.main(null);"
   ]
  }
 ],
 "metadata": {
  "kernelspec": {
   "display_name": "Java",
   "language": "java",
   "name": "java"
  },
  "language_info": {
   "codemirror_mode": "java",
   "file_extension": ".jshell",
   "mimetype": "text/x-java-source",
   "name": "Java",
   "pygments_lexer": "java",
   "version": "18.0.1.1+2-6"
  },
  "orig_nbformat": 4,
  "vscode": {
   "interpreter": {
    "hash": "aee8b7b246df8f9039afb4144a1f6fd8d2ca17a180786b69acc140d282b71a49"
   }
  }
 },
 "nbformat": 4,
 "nbformat_minor": 2
}
