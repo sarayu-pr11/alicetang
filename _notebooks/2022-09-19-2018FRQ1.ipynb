{
 "cells": [
  {
   "cell_type": "markdown",
   "metadata": {},
   "source": [
    "# \"2018 FRQ1\"\n",
    "> \"Methods and Control Structure FRQ\"\n",
    "\n",
    "- branch: master\n",
    "- badges: true\n",
    "- comments: true\n",
    "- author: Alice Tang\n",
    "- categories: [java, jupyter]"
   ]
  },
  {
   "cell_type": "markdown",
   "metadata": {},
   "source": [
    "1. This question involves reasoning about a simulation of a frog hopping in a straight line. The frog attempts to hop to a goal within a specified number of hops. The simulation is encapsulated in the following FrogSimulation class. You will write two of the methods in this class.\n",
    "        public class FrogSimulation\n",
    "        {\n",
    "            /** Distance, in inches, from the starting position to the goal. */ \n",
    "            private int goalDistance;\n",
    "\n",
    "            /** Maximum number of hops allowed to reach the goal. */ \n",
    "            private int maxHops;\n",
    "\n",
    "            /** Constructs a FrogSimulation where dist is the distance, in inches, from the starting\n",
    "            * position to the goal, and numHops is the maximum number of hops allowed to reach the goal.\n",
    "            * Precondition: dist > 0; numHops > 0 */\n",
    "            public FrogSimulation(int dist, int numHops)\n",
    "            {\n",
    "                goalDistance = dist;\n",
    "                maxHops = numHops;\n",
    "            }\n",
    "\n",
    "            /** Returns an integer representing the distance, in inches, to be moved when the frog hops. */\n",
    "            private int hopDistance()\n",
    "                { /* implementation not shown */ }\n",
    "\n",
    "            /** Simulates a frog attempting to reach the goal as described in part (a).\n",
    "            * Returns true if the frog successfully reached or passed the goal during the simulation; \n",
    "            * false otherwise.*/\n",
    "            public boolean simulate()\n",
    "                { /* to be implemented in part (a) */ }\n",
    "\n",
    "            /** Runs num simulations and returns the proportion of simulations in which the frog\n",
    "            * successfully reached or passed the goal.\n",
    "            * Precondition: num > 0 */\n",
    "            public double runSimulations(int num)\n",
    "                { /* to be implemented in part (b) */ } \n",
    "        }"
   ]
  },
  {
   "cell_type": "markdown",
   "metadata": {},
   "source": [
    "\n",
    "(a) Complete method simulate below. You must use hopDistance appropriately to receive full credit.\n",
    "/** Simulates a frog attempting to reach the goal as described in part (a).\n",
    "* Returns true if the frog successfully reached or passed the goal during the simulation; \n",
    "* false otherwise.*/\n",
    "\n",
    "public boolean simulate()"
   ]
  },
  {
   "cell_type": "code",
   "execution_count": 2,
   "metadata": {},
   "outputs": [],
   "source": [
    "public boolean simulate()\n",
    "{\n",
    "   int position = 0;\n",
    "   for (int i = 0; i < maxHops; i++)\n",
    "   {\n",
    "        position += hopDistance();\n",
    "        if (position >= goalDistance)\n",
    "        {  \n",
    "            return true;\n",
    "        } \n",
    "        else if (position < 0)\n",
    "        { \n",
    "            return false; \n",
    "        }\n",
    "    }\n",
    "    return false;\n",
    "}"
   ]
  },
  {
   "cell_type": "markdown",
   "metadata": {},
   "source": [
    "\n",
    "(b) Write the runSimulations method, which performs a given number of simulations and returns the proportion of simulations in which the frog successfully reached or passed the goal. For example, if the parameter passed to runSimulations is 400, and 100 of the 400 simulate method calls returned true, then the runSimulations method should return 0.25.\n",
    "Complete method runSimulations below. Assume that simulate works as specified, regardless of what you wrote in part (a). You must use simulate appropriately to receive full credit.\n",
    "/** Runs num simulations and returns the proportion of simulations in which the frog\n",
    "* successfully reached or passed the goal.\n",
    "* Precondition: num > 0 */\n",
    "\n",
    "public double runSimulations(int num)"
   ]
  },
  {
   "cell_type": "code",
   "execution_count": 1,
   "metadata": {},
   "outputs": [],
   "source": [
    "public double runSimulations(int num)\n",
    "{\n",
    "   int count = 0;\n",
    "   for (int i = 0; i < num; i++)\n",
    "   {\n",
    "        if(simulate())\n",
    "        { \n",
    "            count +=1; \n",
    "        }\n",
    "    }\n",
    "    return (double)count/num;\n",
    "}"
   ]
  }
 ],
 "metadata": {
  "kernelspec": {
   "display_name": "Java",
   "language": "java",
   "name": "java"
  },
  "language_info": {
   "codemirror_mode": "java",
   "file_extension": ".jshell",
   "mimetype": "text/x-java-source",
   "name": "java",
   "pygments_lexer": "java",
   "version": "18.0.1.1+2-6"
  },
  "orig_nbformat": 4,
  "vscode": {
   "interpreter": {
    "hash": "aee8b7b246df8f9039afb4144a1f6fd8d2ca17a180786b69acc140d282b71a49"
   }
  }
 },
 "nbformat": 4,
 "nbformat_minor": 2
}
