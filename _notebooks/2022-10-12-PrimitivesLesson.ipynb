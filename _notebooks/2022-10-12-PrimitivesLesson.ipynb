{
 "cells": [
  {
   "cell_type": "markdown",
   "metadata": {},
   "source": [
    "# \"Primitives Lesson\"\n",
    "> \"Student Lead Lesson Notes and HW\"\n",
    "\n",
    "- branch: master\n",
    "- badges: true\n",
    "- comments: true\n",
    "- author: Alice Tang\n",
    "- categories: [java, jupyter]"
   ]
  },
  {
   "cell_type": "markdown",
   "metadata": {},
   "source": [
    "### Why Java?\n",
    "- more simple language\n",
    "- automatic garbage collection\n",
    "- flexible and effecient because it is object oriented\n",
    "- multi threaded allows java to run multiple programs at once\n",
    "\n",
    "### Primities\n",
    "- primitives are lowercase\n",
    "- nonprimitives are uppercase \n",
    "- Collegeboard need-to-know primitives: Boolean, Int, Double \n",
    "\n",
    "### Casting\n",
    "- changing a variable from one data type to another\n",
    "- widening: happens automatically, going from smaller to larger data type\n",
    "- narrowing: need to declare to address overflow error, going from larger to smaller data type\n",
    "\n",
    "\n",
    "### Operators\n",
    "- (+) is addition\n",
    "- (-) is subtraction\n",
    "- (/) is division\n",
    "- (*) is multiplication\n",
    "- (%) finds the remainder\n",
    "- example: x += 7 increases the varaible by 7"
   ]
  },
  {
   "cell_type": "markdown",
   "metadata": {},
   "source": [
    "## Homework \n",
    "2006 FRQ 2a, 3a   (due monday)"
   ]
  },
  {
   "cell_type": "markdown",
   "metadata": {},
   "source": [
    "2 a)"
   ]
  },
  {
   "cell_type": "code",
   "execution_count": null,
   "metadata": {},
   "outputs": [],
   "source": [
    " // returns the price of the item including the tax\n",
    " public double purchasePrice()\n",
    " {\n",
    "   return getListPrice() * (1.0 + taxRate);\n",
    " }"
   ]
  },
  {
   "cell_type": "markdown",
   "metadata": {},
   "source": [
    "3 a)"
   ]
  },
  {
   "cell_type": "code",
   "execution_count": null,
   "metadata": {},
   "outputs": [],
   "source": [
    "  // returns 0 when this customer is equal to other;\n",
    "  //   a positive integer when this customer is greater than other;\n",
    "  //   a negative integer when this customer is less than other\n",
    "  public int compareCustomer(Customer other)\n",
    "  {\n",
    "    int diff = getName().compareTo(other.getName());\n",
    "    if (diff == 0)\n",
    "      diff = getID() - other.getID();\n",
    "    return diff;\n",
    "  }"
   ]
  }
 ],
 "metadata": {
  "kernelspec": {
   "display_name": "Java",
   "language": "java",
   "name": "java"
  },
  "language_info": {
   "name": "java",
   "version": "3.9.6"
  },
  "orig_nbformat": 4,
  "vscode": {
   "interpreter": {
    "hash": "aee8b7b246df8f9039afb4144a1f6fd8d2ca17a180786b69acc140d282b71a49"
   }
  }
 },
 "nbformat": 4,
 "nbformat_minor": 2
}
