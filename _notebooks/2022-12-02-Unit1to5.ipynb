{
 "cells": [
  {
   "cell_type": "markdown",
   "metadata": {},
   "source": [
    "# \"Unit 1-5 Blog\"\n",
    "> \"includes vocab\"\n",
    "\n",
    "- branch: master\n",
    "- badges: true\n",
    "- comments: true\n",
    "- author: Alice Tang\n",
    "- categories: [java, jupyter, CB]"
   ]
  },
  {
   "cell_type": "markdown",
   "metadata": {},
   "source": [
    "# Unit 1 - Primitive Types\n",
    "\n",
    "### Primities\n",
    "- primitives are lowercase\n",
    "- nonprimitives are uppercase \n",
    "- Collegeboard need-to-know primitives: Boolean, Int, Double \n",
    "\n",
    "### Casting\n",
    "- changing a variable from one data type to another\n",
    "- widening: happens automatically, going from smaller to larger data type\n",
    "- narrowing: need to declare to address overflow error, going from larger to smaller data type\n",
    "\n",
    "\n",
    "### Operators\n",
    "- (+) is addition\n",
    "- (-) is subtraction\n",
    "- (/) is division\n",
    "- (*) is multiplication\n",
    "- (%) finds the remainder\n",
    "- example: x += 7 increases the varaible by 7\n",
    "\n",
    "### Casting for Division\n",
    "- When dividing a double by a double the output is a double, and when dividing an integer with an integer the output is an integer, but that is not always the case. like 7/3 is not an integer. To fix this you need to cast the denominator to a double like 7/(double)3"
   ]
  },
  {
   "cell_type": "code",
   "execution_count": 2,
   "metadata": {},
   "outputs": [
    {
     "name": "stdout",
     "output_type": "stream",
     "text": [
      "2\n",
      "2.6666666666666665\n"
     ]
    }
   ],
   "source": [
    "int x = 8/3;\n",
    "System.out.println(x);\n",
    "\n",
    "// vs casting with double\n",
    "double y = 8/(double)3;\n",
    "System.out.println(y);"
   ]
  },
  {
   "cell_type": "markdown",
   "metadata": {},
   "source": [
    "### Casting, specifically for Truncating or Rounding\n",
    "- When rounding double values they can be rounded to the nearest integer by adding or subtracting 0.5 and casting with (int)"
   ]
  },
  {
   "cell_type": "code",
   "execution_count": 3,
   "metadata": {},
   "outputs": [
    {
     "name": "stdout",
     "output_type": "stream",
     "text": [
      "8.0/3 = 2.6666666666666665\n",
      "8/3 truncated: 2\n",
      "8.0/3 rounded to nearest int: 3\n"
     ]
    }
   ],
   "source": [
    "double x = 8.0 / 3;\n",
    "int rounded = (int)(x + 0.5);\n",
    "System.out.println(\"8.0/3 = \" + x);\n",
    "System.out.println(\"8/3 truncated: \" + (int)x );\n",
    "System.out.println(\"8.0/3 rounded to nearest int: \" + rounded);"
   ]
  },
  {
   "cell_type": "markdown",
   "metadata": {},
   "source": [
    "# Unit 2 - Using Objects\n",
    "\n",
    "### What is OOP\n",
    "- OOP is object oriented programming\n",
    "- programming pardigm centered around objects\n",
    "\n",
    "### Classes and Objects\n",
    "- classes are templates or a blueprint, contatin data \n",
    "- objects are instances of a class, need to be instantiated\n",
    "- methods are functions of a class\n",
    "- Method Declaration consists of 6 components: Access modifer, Return type, Method name, Parameter list, Exception list, Method body\n",
    "- Calling a method allows for code reuse, optimization, and organization\n",
    "- To call an object's method you have to make an object reference\n",
    "\n",
    "### Wrapper Classes, why wrap int, double. Show examples\n",
    "- A wrapper class is a class whose object contains primitive data types. Wrapper classes allow us to wrap a primitive value into the class object"
   ]
  },
  {
   "cell_type": "code",
   "execution_count": 4,
   "metadata": {},
   "outputs": [
    {
     "name": "stdout",
     "output_type": "stream",
     "text": [
      "2\n",
      "3.5\n"
     ]
    }
   ],
   "source": [
    "// in newer versions of Java\n",
    "Integer a = 2;\n",
    "Double b = 3.5;\n",
    "\n",
    "System.out.println(a);\n",
    "System.out.println(b)"
   ]
  },
  {
   "cell_type": "markdown",
   "metadata": {},
   "source": [
    "### Concatenation\n",
    "- Concatenation is the joining or data.\n",
    "- Some examples are:\n",
    "- string concatenation and string and object concatenation with toString() method\n",
    "\n",
    "### Math class, specifically Random usage\n",
    "- Math class contains methods from the java.lang package\n",
    "- These are static methods so you call them by using ClassName.methodName()\n",
    "- Ex: math.random"
   ]
  },
  {
   "cell_type": "code",
   "execution_count": 5,
   "metadata": {},
   "outputs": [
    {
     "name": "stdout",
     "output_type": "stream",
     "text": [
      "2\n",
      "4.7045881E7\n",
      "22.360679774997898\n"
     ]
    }
   ],
   "source": [
    "System.out.println(Math.abs(-2));\n",
    "System.out.println(Math.pow(19, 6));\n",
    "System.out.println(Math.sqrt(500));"
   ]
  },
  {
   "cell_type": "markdown",
   "metadata": {},
   "source": [
    "# Unit 3 - Boolean Expression and If Statements\n",
    "\n",
    "### Boolean Expressions \n",
    "A Boolean expression is a logical statement that is either True or False. Boolean expressions can compare any type of data if both parts of the expression have the same basic data type. A Boolean expression can be a combination of the Boolean constants true or false.\n",
    "\n",
    "All non zero numbers are true\n",
    "- the most common example: 1 = true; 0 = false\n",
    "- == checks for comparison\n",
    "- not to be confused with = which is assignment\n",
    "- != checks for inequality\n",
    "- <, >, >=, <=\n",
    "- these operands do their normal functions\n",
    "- || relates to the or function\n",
    "- && related to and function\n",
    "\n",
    "### Logic Gates\n",
    "Logic gates are used to carry out logical operations on single or multiple binary inputs and give one binary output. In simple terms, logic gates are the electronic circuits in a digital system.\n",
    "\n",
    "![This is an image](https://www.electronicsforu.com/wp-contents/uploads/2022/08/logic-gates.jpeg)\n",
    "\n",
    "- Buffer/YES : output is the same as the input\n",
    "- NOT : output is the opposite of the input\n",
    "- AND : returns true if both inputs are true\n",
    "- NAND : returns false if both inputs are true\n",
    "- OR : returns true if at least one of the inputs are true, returns false if both inputs are false\n",
    "- NOR : returns false if at least one of the inputs are true, returns true if both inputs are false\n",
    "- XOR : returns true if the two inputs are different\n",
    "- XNOR : returns true if two inputs are the same \n",
    "\n",
    "### Compound Boolean Expression\n",
    "- Compound Boolean Expressions are like && which means that the code is executed based on if the first and second conditions are true.\n",
    "\n",
    "### De Morgan's Law\n",
    "DeMorgan's laws tell us how to transform logical expressions (with multiple AND and/or OR statements) using the NOT operator.\n",
    "- (not(A and B)) is equal to (not A or not B)\n",
    "- (not(A or B)) is equal to (not A and not B)\n",
    "- (not(A and B)) is not equal to (not A and not B)\n",
    "![This is an image](https://github.com/tangalice/alicetang/blob/master/images/DeMorgans.png?raw=true)\n",
    "Syntax\n",
    "- union symbol (∪) : OR\n",
    "- intersection symbol (∩) : AND\n",
    "- apostrophe (') : NOT\n",
    "\n",
    "### Truth Tables\n",
    "A truth table is a breakdown of a logic function by listing all possible values the function can attain. Such a table typically contains several rows and columns, with the top row representing the logical variables and combinations, in increasing complexity leading up to the final function.\n",
    "![This is an image](https://github.com/tangalice/alicetang/blob/master/images/TruthTable.png?raw=true)\n",
    "\n",
    "### Compare methods\n",
    "- Comparing numbers: compare() method of Integer class of java.lang package compares two integer values (x, y) given as a parameter and returns the value zero if (x==y), if (x < y) then it returns a value less than zero and if (x > y) then it returns a value greater than zero.\n",
    "- Comparing strings: if (string1 > string2) it returns a positive value. If (string1 == string2) it returns 0. If (string1 < string2) it returns a negative value\n",
    "- Comparing objects: == and != operators"
   ]
  },
  {
   "cell_type": "code",
   "execution_count": 6,
   "metadata": {},
   "outputs": [
    {
     "name": "stdout",
     "output_type": "stream",
     "text": [
      "-1\n"
     ]
    }
   ],
   "source": [
    "int a = 10;\n",
    "int b = 20;\n",
    "  \n",
    "// as 10 less than 20, Output will be a value less than zero\n",
    "System.out.println(Integer.compare(a, b));"
   ]
  },
  {
   "cell_type": "markdown",
   "metadata": {},
   "source": [
    "## Unit 4 - Iteration\n",
    "\n",
    "### Operators\n",
    "- ++ increment by 1\n",
    "- -- decrement by 1\n",
    "\n",
    "### While loop\n",
    "- while a specific condition is executed the condition will run\n",
    "\n",
    "### Recursion Loop\n",
    "- Put your function inside its own functions\n",
    "\n",
    "### Nested Iteration\n",
    "- technique that coders use\n",
    "- any of the three loops can be used\n",
    "- put a loop inside a loop\n",
    "\n",
    "### For loop\n",
    "- for each thing in a sequence it will loop\n",
    "- will run for each thing that is true\n",
    "- Loops that runs for a set number of iterations\n",
    "- The enhanced for loop iterates in a sequence (counter is always increased by one)"
   ]
  },
  {
   "cell_type": "code",
   "execution_count": 7,
   "metadata": {},
   "outputs": [
    {
     "name": "stdout",
     "output_type": "stream",
     "text": [
      "count is 0\n",
      "count is 1\n",
      "count is 2\n",
      "count is 3\n",
      "count is 4\n"
     ]
    }
   ],
   "source": [
    "public class LoopConversion \n",
    "{\n",
    "    public static void main(String[] args) \n",
    "    {\n",
    "        int count = 0;\n",
    "        //convert to for loop\n",
    "        for (count=0; count < 5;)\n",
    "        {\n",
    "            System.out.println(\"count is \" + count);\n",
    "            count++;\n",
    "        }\n",
    "    }\n",
    "}\n",
    "\n",
    "LoopConversion.main(null);"
   ]
  },
  {
   "cell_type": "markdown",
   "metadata": {},
   "source": [
    "### While Loop\n",
    "- Iterative statement that checks for conditions and runs as long as they are met.\n",
    "- Do while loop is similar but it is guaranteed to execute at least one time"
   ]
  },
  {
   "cell_type": "code",
   "execution_count": 8,
   "metadata": {},
   "outputs": [
    {
     "name": "stdout",
     "output_type": "stream",
     "text": [
      "i is 0\n",
      "i is 1\n",
      "i is 2\n",
      "i is 3\n",
      "i is 4\n"
     ]
    }
   ],
   "source": [
    "public class WhileLoop \n",
    "{\n",
    "    public static void main(String[] args) \n",
    "    {\n",
    "        int i = 0;\n",
    "        //convert to for loop\n",
    "        while (i < 5)\n",
    "        {\n",
    "            System.out.println(\"i is \" + i);\n",
    "            i++;\n",
    "        }\n",
    "    }\n",
    "}\n",
    "\n",
    "WhileLoop.main(null);"
   ]
  },
  {
   "cell_type": "markdown",
   "metadata": {},
   "source": [
    "### Nested Loops\n",
    "- Nested loops are loops within loops"
   ]
  },
  {
   "cell_type": "code",
   "execution_count": 9,
   "metadata": {},
   "outputs": [
    {
     "name": "stdout",
     "output_type": "stream",
     "text": [
      "Week: 1\n",
      "  Day: 1\n",
      "  Day: 2\n",
      "  Day: 3\n",
      "  Day: 4\n",
      "  Day: 5\n",
      "  Day: 6\n",
      "  Day: 7\n",
      "Week: 2\n",
      "  Day: 1\n",
      "  Day: 2\n",
      "  Day: 3\n",
      "  Day: 4\n",
      "  Day: 5\n",
      "  Day: 6\n",
      "  Day: 7\n",
      "Week: 3\n",
      "  Day: 1\n",
      "  Day: 2\n",
      "  Day: 3\n",
      "  Day: 4\n",
      "  Day: 5\n",
      "  Day: 6\n",
      "  Day: 7\n"
     ]
    }
   ],
   "source": [
    "class Main {\n",
    "    public static void main(String[] args) {\n",
    "  \n",
    "      int weeks = 3;\n",
    "      int days = 7;\n",
    "  \n",
    "      // outer loop prints weeks\n",
    "      for (int i = 1; i <= weeks; ++i) {\n",
    "        System.out.println(\"Week: \" + i);\n",
    "  \n",
    "        // inner loop prints days\n",
    "        for (int j = 1; j <= days; ++j) {\n",
    "          System.out.println(\"  Day: \" + j);\n",
    "        }\n",
    "      }\n",
    "    }\n",
    "  }\n",
    "  Main.main(null);"
   ]
  },
  {
   "cell_type": "markdown",
   "metadata": {},
   "source": [
    "# Unit 5 - Writing Classes\n",
    "\n",
    "### Classes\n",
    "- classes are \"blueprints\" that we use to instantiate objects\n",
    "- classes are an essential aspect of OOP \n",
    "\n",
    "### Anatomy\n",
    "Object\n",
    "- state, attributes, behavior\n",
    "- intance of a class\n",
    "- represented by an instance in the program\n",
    "\n",
    "Class\n",
    "- defines an abstract data type\n",
    "- object references: string variable\n",
    "- instance variables : attributes, behaviors, data for objects \n",
    "\n",
    "### Functions\n",
    "- methods : the action or behavior of an object\n",
    "- constructor : special method for object instantiation, sets the initial values for variables, default constructors have no arguments\n",
    "- main : tests the class\n",
    "\n",
    "accesor \n",
    "- Get of Methods or getters\n",
    "    - allows you to access the values of varaibles\n",
    "    - returns a copy of the variable\n",
    "- non-void methods\n",
    "    - value of specific data type returned\n",
    "    - no parameteres\n",
    "\n",
    "mutator \n",
    "- Set of Methods or setters\n",
    "    - allows you to change to values of variables\n",
    "- non-void methods\n",
    "    - no value returned\n",
    "    - will take parameters\n",
    "\n",
    "### Writing Methods\n",
    "- method_definition(Modifiers, Return Type)\n",
    "- method_signature(Name, Parameters)\n",
    "- method_body(Code)\n",
    "- \"Object.method()\"\n",
    "\n",
    "### Key Words\n",
    "/Static Modifiers\n",
    "- used after access modifiers\n",
    "- denotes as belonging to a class\n",
    "/This\n",
    "- refers to the constructor that is being called\n",
    "Access Modifiers\n",
    "- Restricts scope of classes, variables and functions\n",
    "\n",
    "### Scope and Access\n",
    "/Scope\n",
    "- Where a variable can be accessed/used\n",
    "- Class level: Instance Var\n",
    "- Method level: Local, parameter var\n",
    "- Block level: If else/ Loops\n",
    "\n",
    "### Public, Private, Protected\n",
    "- Public - can be accessed within and outside of class\n",
    "- Private - can only be accessed within the class\n",
    "- Protected - can be accessed by all classes in the package and all subclass outside of the package"
   ]
  },
  {
   "cell_type": "code",
   "execution_count": 10,
   "metadata": {},
   "outputs": [
    {
     "name": "stdout",
     "output_type": "stream",
     "text": [
      "is the light on? true\n",
      "is the light on? false\n"
     ]
    }
   ],
   "source": [
    "class Lamp {\n",
    " \n",
    "    boolean isOn;\n",
    "  \n",
    "    void turnOn() {\n",
    "      isOn = true;\n",
    "      System.out.println(\"is the light on? \" + isOn);\n",
    "  \n",
    "    }\n",
    "  \n",
    "    void turnOff() {\n",
    "      isOn = false;\n",
    "      System.out.println(\"is the light on? \" + isOn);\n",
    "    }\n",
    "  }\n",
    "  \n",
    "  class Main {\n",
    "    public static void main(String[] args) {\n",
    "  \n",
    "      // create objects led and halogen\n",
    "      Lamp a = new Lamp();\n",
    "      Lamp b = new Lamp();\n",
    "  \n",
    "      // turn on the light by\n",
    "      // calling method turnOn()\n",
    "      a.turnOn();\n",
    "  \n",
    "      // turn off the light by\n",
    "      // calling method turnOff()\n",
    "      b.turnOff();\n",
    "    }\n",
    "  }\n",
    "  Main.main(null);"
   ]
  },
  {
   "cell_type": "markdown",
   "metadata": {},
   "source": [
    "### Inheritance, extends\n",
    "- Inheritance is a way for attributes and methods to be inherited from one class to another\n",
    "- Extends is what allows you to bring those attributes from one class to another\n",
    "- example: fibonacci\n",
    "\n",
    "### Subclass constructor, super Keyword2\n",
    "- A subclass inherits all the members from the superclass while the constructor of the superclass can be invoked from the subclass\n",
    "- Super keyword refers to superclass objects; it is used to call superclass methods and to access the superclass costructor\n",
    "\n",
    "### Overloading a method, same name different parameters\n",
    "- Overloading a method in java is a feature that allows a class to have more than one method with the same name, but with different parameters\n",
    "- Instead of defining two methods that do the same thing, it is better to overload one\n",
    "\n",
    "### Overriding a method, same signature of a method\n",
    "- Method overriding occurs when a subclass has the same method as the parent class\n",
    "- When a subclass provides a particular implementation of a method declared by one of its parent classes\n",
    "\n",
    "### Abstract Class, Abstract Method\n",
    "- A abstract class cannot be instantiated but they can be subclassed\n",
    "- An abstract method is a method that has just the method definition but does not contain implementation\n",
    "\n",
    "### Standard methods: toString(), equals(), hashCode()\n",
    "- Standard methods are blocks of code that can be called from another location in the program or class\n",
    "- toString(); returns the given value in string format\n",
    "- equals(); compares two strings and returns true if the strings are equal\n",
    "- hashCode(); returns an integer value generated by a hashing algorithm\n",
    "\n",
    "### Late binding of object, referencing superclass object, ie Animal a = new Chicken(); Animal b = new Goat();\n",
    "- Late binding is when the compiler should perform no argument checks, no type checks on a method call and should leave it all to the runtime\n",
    "\n",
    "### Polymorphism: any of overloading, overriding, late binding\n",
    "- Polymorphism is the ability of a class to provide different implementations of a method depending on the type of object that is passed to the method\n",
    "- Allows us to perform the same action in many different ways\n",
    "\n",
    "### Big O notation for Hash map, Binary Search, Single loop, Nested Loop\n",
    "- Big O notation describes the set of all algorithms that run no worse than a certain speed, no better than a certain speed, and at a certain speed\n",
    "- Shows the number of operations it will perform"
   ]
  }
 ],
 "metadata": {
  "kernelspec": {
   "display_name": "Java",
   "language": "java",
   "name": "java"
  },
  "language_info": {
   "codemirror_mode": "java",
   "file_extension": ".jshell",
   "mimetype": "text/x-java-source",
   "name": "java",
   "pygments_lexer": "java",
   "version": "18.0.1.1+2-6"
  },
  "orig_nbformat": 4,
  "vscode": {
   "interpreter": {
    "hash": "aee8b7b246df8f9039afb4144a1f6fd8d2ca17a180786b69acc140d282b71a49"
   }
  }
 },
 "nbformat": 4,
 "nbformat_minor": 2
}
